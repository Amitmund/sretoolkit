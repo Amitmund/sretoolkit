{
 "cells": [
  {
   "cell_type": "code",
   "execution_count": 1,
   "metadata": {},
   "outputs": [
    {
     "name": "stdout",
     "output_type": "stream",
     "text": [
      "\u001b[1mHello, World!\u001b[0m\n",
      "Hello, World!\n",
      "\u001b[4mHello, World!\u001b[0m\n"
     ]
    }
   ],
   "source": [
    "class color:\n",
    "   PURPLE = '\\033[95m'\n",
    "   CYAN = '\\033[96m'\n",
    "   DARKCYAN = '\\033[36m'\n",
    "   BLUE = '\\033[94m'\n",
    "   GREEN = '\\033[92m'\n",
    "   YELLOW = '\\033[93m'\n",
    "   RED = '\\033[91m'\n",
    "   BOLD = '\\033[1m'\n",
    "   UNDERLINE = '\\033[4m'\n",
    "   END = '\\033[0m'\n",
    "\n",
    "print(color.BOLD + 'Hello, World!' + color.END)\n",
    "print(\"Hello, World!\")\n",
    "print(color.UNDERLINE + 'Hello, World!' + color.END)"
   ]
  },
  {
   "cell_type": "markdown",
   "metadata": {},
   "source": [
    "`\\033` is an escape sequence, specifically a Control Sequence Introducer (CSI) in the ANSI escape code standard. It is used to initiate a sequence of commands to control the behavior of a terminal or console"
   ]
  },
  {
   "cell_type": "code",
   "execution_count": 2,
   "metadata": {},
   "outputs": [
    {
     "name": "stdout",
     "output_type": "stream",
     "text": [
      "\u001b[1mHello, World!\u001b[0m\n",
      "Hello, World!\n",
      "\u001b[9mHello, World!\u001b[0m\n",
      "\u001b[0;34mHello, World!\u001b[0m\n",
      "\u001b[0;32mThis is green color.\n",
      "How about the new line.\n",
      "\u001b[0mHow about the new line.\n"
     ]
    }
   ],
   "source": [
    "class color:\n",
    "    \"\"\" ANSI color codes \"\"\"\n",
    "    BLACK = \"\\033[0;30m\"\n",
    "    RED = \"\\033[0;31m\"\n",
    "    GREEN = \"\\033[0;32m\"\n",
    "    BROWN = \"\\033[0;33m\"\n",
    "    BLUE = \"\\033[0;34m\"\n",
    "    PURPLE = \"\\033[0;35m\"\n",
    "    CYAN = \"\\033[0;36m\"\n",
    "    LIGHT_GRAY = \"\\033[0;37m\"\n",
    "    \"\"\"This is another section \"\"\"\n",
    "    DARK_GRAY = \"\\033[1;30m\"\n",
    "    LIGHT_RED = \"\\033[1;31m\"\n",
    "    LIGHT_GREEN = \"\\033[1;32m\"\n",
    "    YELLOW = \"\\033[1;33m\"\n",
    "    LIGHT_BLUE = \"\\033[1;34m\"\n",
    "    LIGHT_PURPLE = \"\\033[1;35m\"\n",
    "    LIGHT_CYAN = \"\\033[1;36m\"\n",
    "    LIGHT_WHITE = \"\\033[1;37m\"\n",
    "    \"\"\"This is the 1st character \"\"\"\n",
    "    BOLD = \"\\033[1m\"\n",
    "    FAINT = \"\\033[2m\"\n",
    "    ITALIC = \"\\033[3m\"\n",
    "    UNDERLINE = \"\\033[4m\"\n",
    "    BLINK = \"\\033[5m\"\n",
    "    NEGATIVE = \"\\033[7m\"\n",
    "    CROSSED = \"\\033[9m\"\n",
    "    END = \"\\033[0m\"\n",
    "\n",
    "print(color.BOLD + 'Hello, World!' + color.END)\n",
    "print(\"Hello, World!\")\n",
    "print(color.CROSSED + 'Hello, World!' + color.END)\n",
    "print(color.BLUE + 'Hello, World!' + color.END)\n",
    "\n",
    "print(color.GREEN + \"This is green color.\") # forget the do the endcall.\n",
    "print(\"How about the new line.\")\n",
    "print(color.END + \"How about the new line.\")\n"
   ]
  },
  {
   "cell_type": "code",
   "execution_count": 3,
   "metadata": {},
   "outputs": [
    {
     "name": "stdout",
     "output_type": "stream",
     "text": [
      "\u001b[40m Background color: black\n",
      "\u001b[01;32;40m Text with green color on black background\n",
      "\u001b[01;37;43m Playing around\n",
      "\u001b[01;37;42m Playing around\n"
     ]
    }
   ],
   "source": [
    "print(\"\\033[40m Background color: black\")\n",
    "print(\"\\033[01;32;40m Text with green color on black background\")\n",
    "\n",
    "print(\"\\033[01;37;43m Playing around\")\n",
    "print(\"\\033[01;37;42m Playing around\")"
   ]
  },
  {
   "cell_type": "markdown",
   "metadata": {},
   "source": [
    "##### NOTE on colors:\n",
    "\n",
    "- The escape sequence is `\\033[` followed by ;\n",
    "- separated `numbers`.\n",
    "- A single digit number for text type, ( example: bold, underline and so on...)\n",
    "- A `2 digit` number, start with `3` for coloring the `text`. (example: 31, 39)\n",
    "- A `2 digit` number, start with `4` for coloring the `background`. ( example: 40, 43)\n",
    "- All ends with `m`"
   ]
  },
  {
   "cell_type": "markdown",
   "metadata": {},
   "source": []
  }
 ],
 "metadata": {
  "kernelspec": {
   "display_name": "Python 3",
   "language": "python",
   "name": "python3"
  },
  "language_info": {
   "codemirror_mode": {
    "name": "ipython",
    "version": 3
   },
   "file_extension": ".py",
   "mimetype": "text/x-python",
   "name": "python",
   "nbconvert_exporter": "python",
   "pygments_lexer": "ipython3",
   "version": "3.9.6"
  }
 },
 "nbformat": 4,
 "nbformat_minor": 2
}
