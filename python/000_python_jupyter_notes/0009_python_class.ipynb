{
 "cells": [
  {
   "cell_type": "markdown",
   "metadata": {},
   "source": [
    "## Class"
   ]
  },
  {
   "cell_type": "markdown",
   "metadata": {},
   "source": [
    "`Paradigm` means the principle how a program should be organized.\n",
    "\n",
    "Python support 3 type of paradigm:\n",
    "- Structured Programming\n",
    "- Functional Programming\n",
    "- Object oriented programming.\n"
   ]
  },
  {
   "cell_type": "markdown",
   "metadata": {},
   "source": [
    "<br>\n",
    "\n",
    "---\n",
    "---"
   ]
  },
  {
   "cell_type": "markdown",
   "metadata": {},
   "source": [
    "`Class ---- Instance ---> Object`\n",
    "\n",
    "<br>\n",
    "\n",
    "> `Objects` are get created using `class`, and this `object` getting created is known as `Instance` of the `class`.\n",
    "\n",
    "\n",
    "A Class describes two things:\n",
    "- Object(s) created from the Class\n",
    "- Functionality it will have.\n",
    "\n",
    "<br>\n",
    "\n",
    "\n",
    "This class have a  `properties` and `methods`.\n",
    "\n",
    "\n",
    "<br>\n",
    "\n",
    "Note:\n",
    "> In python everytype is a Class.\n",
    "> So, `str` is an object.  And all the strings object created will be having the same `methods`."
   ]
  },
  {
   "cell_type": "markdown",
   "metadata": {},
   "source": [
    "The Specific data in an object is often called `instance data ` or `properties | state | attributes` of the object.  `Methods` in an object are called  `instance methods`.\n"
   ]
  },
  {
   "cell_type": "markdown",
   "metadata": {},
   "source": [
    "> When you create individual objects from the class, each object is automatically equipped with the general behavior."
   ]
  },
  {
   "cell_type": "markdown",
   "metadata": {},
   "source": [
    "\n",
    "<br>\n",
    "\n",
    "---\n",
    "---\n"
   ]
  },
  {
   "cell_type": "markdown",
   "metadata": {},
   "source": [
    "\n",
    "### `user-defined` class:\n",
    "\n",
    "We can create an `user-defined` functions too."
   ]
  },
  {
   "cell_type": "code",
   "execution_count": 2,
   "metadata": {},
   "outputs": [
    {
     "name": "stdout",
     "output_type": "stream",
     "text": [
      "<__main__.Employee object at 0x108cbc340>\n",
      "<__main__.Employee object at 0x108cbc7f0>\n"
     ]
    }
   ],
   "source": [
    "class Employee:\n",
    "    pass\n",
    "\n",
    "emp_1 = Employee()\n",
    "emp_2 = Employee()\n",
    "\n",
    "# Checking the memory location of both the object.\n",
    "\n",
    "print(emp_1) # You can see different memory location of each of this object.\n",
    "print(emp_2)"
   ]
  },
  {
   "cell_type": "code",
   "execution_count": 3,
   "metadata": {},
   "outputs": [
    {
     "name": "stdout",
     "output_type": "stream",
     "text": [
      "foo.end@company.com\n",
      "bar.last@company.com\n"
     ]
    }
   ],
   "source": [
    "class Employee:\n",
    "    pass\n",
    "\n",
    "emp_1.first = 'Foo'\n",
    "emp_1.last = 'End'\n",
    "emp_1.email = 'foo.end@company.com'\n",
    "emp_1.pay = 5000\n",
    "\n",
    "\n",
    "emp_2.first = 'Bar'\n",
    "emp_2.last = 'Last'\n",
    "emp_2.email = 'bar.last@company.com'\n",
    "emp_2.pay = 6000\n",
    "\n",
    "print(emp_1.email)\n",
    "print(emp_2.email)"
   ]
  },
  {
   "cell_type": "code",
   "execution_count": 5,
   "metadata": {},
   "outputs": [
    {
     "name": "stdout",
     "output_type": "stream",
     "text": [
      "foo.end@company.com\n",
      "bar.last@company.com\n"
     ]
    }
   ],
   "source": [
    "class Employee:\n",
    "    def __init__(self, first, last, pay):\n",
    "        self.name = first\n",
    "        self.last = last\n",
    "        self.pay = pay\n",
    "        self.email  = first.lower() + '.' + last.lower() + '@company.com'\n",
    "\n",
    "# Note: This time its much smaller  and more readable\n",
    "emp_1 = Employee('Foo', 'End', 5000)\n",
    "emp_2 = Employee('Bar', 'Last', 6000)    \n",
    "\n",
    "print(emp_1.email)\n",
    "print(emp_2.email)   # Output: Bar.Last@company.com"
   ]
  },
  {
   "cell_type": "code",
   "execution_count": null,
   "metadata": {},
   "outputs": [],
   "source": [
    "class employee:\n",
    "    def set_data(self, n, a, s):\n",
    "        self.name  = n\n",
    "        self.age = a\n",
    "        self"
   ]
  },
  {
   "cell_type": "code",
   "execution_count": null,
   "metadata": {},
   "outputs": [],
   "source": []
  }
 ],
 "metadata": {
  "kernelspec": {
   "display_name": "Python 3",
   "language": "python",
   "name": "python3"
  },
  "language_info": {
   "codemirror_mode": {
    "name": "ipython",
    "version": 3
   },
   "file_extension": ".py",
   "mimetype": "text/x-python",
   "name": "python",
   "nbconvert_exporter": "python",
   "pygments_lexer": "ipython3",
   "version": "3.9.6"
  }
 },
 "nbformat": 4,
 "nbformat_minor": 2
}
