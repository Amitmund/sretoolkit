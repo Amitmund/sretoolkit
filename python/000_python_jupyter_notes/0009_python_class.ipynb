{
 "cells": [
  {
   "cell_type": "markdown",
   "metadata": {},
   "source": [
    "## Class"
   ]
  },
  {
   "cell_type": "markdown",
   "metadata": {},
   "source": [
    "`Paradigm` means the principle how a program should be organized.\n",
    "\n",
    "Python support 3 type of paradigm:\n",
    "- Structured Programming\n",
    "- Functional Programming\n",
    "- Object oriented programming.\n"
   ]
  },
  {
   "cell_type": "markdown",
   "metadata": {},
   "source": [
    "<br>\n",
    "\n",
    "---\n",
    "---"
   ]
  },
  {
   "cell_type": "markdown",
   "metadata": {},
   "source": [
    "`Class ---- Instance ---> Object`\n",
    "\n",
    "<br>\n",
    "\n",
    "> `Objects` are get created using `class`, and this `object` getting created is known as `Instance` of the `class`.\n",
    "\n",
    "\n",
    "A Class describes two things:\n",
    "- Object(s) created from the Class\n",
    "- Functionality it will have.\n",
    "- Make the first letter of the classname in Capital letter.\n",
    "\n",
    "<br>\n",
    "\n",
    "\n",
    "This class have a  `properties` and `methods`.\n",
    "\n",
    "\n",
    "<br>\n",
    "\n",
    "Note:\n",
    "> In python everytype is a Class.\n",
    "> So, `str` is an object.  And all the strings object created will be having the same `methods`."
   ]
  },
  {
   "cell_type": "markdown",
   "metadata": {},
   "source": [
    "The Specific data in an object is often called `instance data ` or `properties | state | attributes` of the object.  `Methods` in an object are called  `instance methods`.\n"
   ]
  },
  {
   "cell_type": "markdown",
   "metadata": {},
   "source": [
    "> When you create individual objects from the class, each object is automatically equipped with the general behavior.\n",
    "\n",
    "Making an object from a class is called `instantiation`"
   ]
  },
  {
   "cell_type": "markdown",
   "metadata": {},
   "source": [
    "<br>\n",
    "\n",
    "---\n",
    "---\n",
    "\n",
    "<br>\n"
   ]
  },
  {
   "cell_type": "markdown",
   "metadata": {},
   "source": [
    "### The Constructor Function:\n",
    "\n",
    "- The constructor function is a special function that is called when an object is created. It is used to  initialize the properties of the object.\n",
    "- It's a method(function) that is `automatically ran` when an object is created. It `creates an instance` of a specific class.\n",
    "\n",
    "```\n",
    "__init__()\n",
    "```\n",
    "- This is the name `we must` use for our constructor function.\n",
    "\n",
    "- We create our `Constructor method` (__init__). This is where we define the `properties` our class will need.\n",
    "- Your `arguments | property` must match your `parameters`.\n",
    "- `self` -> is like a `key`. It unlocks the class so we can use the properties and methods throughout.\n"
   ]
  },
  {
   "cell_type": "code",
   "execution_count": 1,
   "metadata": {},
   "outputs": [
    {
     "name": "stdout",
     "output_type": "stream",
     "text": [
      "The speed is: 30\n"
     ]
    }
   ],
   "source": [
    "class My_class():\n",
    "    def __init__(self, parameter1, paramenter2):\n",
    "        self.property1 = parameter1\n",
    "        self.property2 = paramenter2\n",
    "\n",
    "    # This method uses the values from our two properties and get the sum.\n",
    "    def drive(self):\n",
    "        x = self.property1 + self.property2\n",
    "        print(\"The speed is:\", x)\n",
    "\n",
    "car =  My_class(10, 20)\n",
    "car.drive()"
   ]
  },
  {
   "cell_type": "markdown",
   "metadata": {},
   "source": [
    "\n",
    "<br>\n",
    "\n",
    "---\n",
    "---\n"
   ]
  },
  {
   "cell_type": "markdown",
   "metadata": {},
   "source": [
    "\n",
    "### `user-defined` class:\n",
    "\n",
    "We can create an `user-defined` functions too."
   ]
  },
  {
   "cell_type": "code",
   "execution_count": 4,
   "metadata": {},
   "outputs": [
    {
     "name": "stdout",
     "output_type": "stream",
     "text": [
      "foo.end@company.com\n",
      "bar.last@company.com\n"
     ]
    }
   ],
   "source": [
    "class Employee:\n",
    "    # Here we have have 4 parameter and we need to make use of all this 4 paramater as property.)\n",
    "    def __init__(self, first, last, pay):\n",
    "        self.first = first\n",
    "        self.last = last\n",
    "        self.pay = pay\n",
    "        self.email  = first.lower() + '.' + last.lower() + '@company.com'\n",
    "\n",
    "\n",
    "# Note: This time its much smaller  and more readable\n",
    "emp_1 = Employee('Foo', 'End', 5000)\n",
    "emp_2 = Employee('Bar', 'Last', 6000)    \n",
    "\n",
    "\n",
    "print(emp_1.email)\n",
    "print(emp_2.email)   # Output: Bar.Last@company.com\n",
    "\n",
    "\n",
    "\n"
   ]
  },
  {
   "cell_type": "markdown",
   "metadata": {},
   "source": [
    "Note:\n",
    "- Not a must, but using the same argument name and self.property would be easy for troubleshooting.\n",
    "- I was using `first` in the argument and was using `self.name` which was causing issue.\n",
    "- Good practice would be using `first` and `self.first` will be easy.\n",
    "\n",
    "- `self` is critical.\n",
    "- if you don't use `self` you will get error, something line you are expecting "
   ]
  },
  {
   "cell_type": "markdown",
   "metadata": {},
   "source": [
    "<br>\n",
    "\n",
    "---\n",
    "---\n",
    "\n",
    "<br>"
   ]
  },
  {
   "cell_type": "code",
   "execution_count": 24,
   "metadata": {},
   "outputs": [
    {
     "name": "stdout",
     "output_type": "stream",
     "text": [
      "foo.end@company.com\n",
      "bar.last@company.com\n",
      "Foo End\n",
      "Bar Last\n"
     ]
    }
   ],
   "source": [
    "class Employee:\n",
    "    def __init__(self, first, last, pay):\n",
    "        self.first = first\n",
    "        self.last = last\n",
    "        self.pay = pay\n",
    "        self.email  = first.lower() + '.' + last.lower() + '@company.com'\n",
    "\n",
    "\n",
    "    # creating a method # Make sure, it need to be in the same indentation of the class.\n",
    "    def fullname(self):\n",
    "        return f'{self.first} {self.last}'\n",
    "\n",
    "# Note: This time its much smaller  and more readable\n",
    "emp_1 = Employee('Foo', 'End', 5000)\n",
    "emp_2 = Employee('Bar', 'Last', 6000)    \n",
    "\n",
    "\n",
    "print(emp_1.email)    # Object.property\n",
    "print(emp_2.email)    # Output: Bar.Last@company.com\n",
    "\n",
    "print(emp_1.fullname())    #Object.method()\n",
    "print(emp_2.fullname())  # Output: Bar Last"
   ]
  },
  {
   "cell_type": "markdown",
   "metadata": {},
   "source": [
    "<br>\n",
    "\n",
    "---\n",
    "---\n",
    "\n",
    "<br>"
   ]
  },
  {
   "cell_type": "markdown",
   "metadata": {},
   "source": [
    "##### Removing `self` to generate error, to learn more"
   ]
  },
  {
   "cell_type": "code",
   "execution_count": 26,
   "metadata": {},
   "outputs": [
    {
     "ename": "TypeError",
     "evalue": "fullname() takes 0 positional arguments but 1 was given",
     "output_type": "error",
     "traceback": [
      "\u001b[0;31m---------------------------------------------------------------------------\u001b[0m",
      "\u001b[0;31mTypeError\u001b[0m                                 Traceback (most recent call last)",
      "Cell \u001b[0;32mIn[26], line 16\u001b[0m\n\u001b[1;32m     13\u001b[0m \u001b[38;5;66;03m# Note: This time its much smaller  and more readable\u001b[39;00m\n\u001b[1;32m     14\u001b[0m emp_1 \u001b[38;5;241m=\u001b[39m Employee(\u001b[38;5;124m'\u001b[39m\u001b[38;5;124mFoo\u001b[39m\u001b[38;5;124m'\u001b[39m, \u001b[38;5;124m'\u001b[39m\u001b[38;5;124mEnd\u001b[39m\u001b[38;5;124m'\u001b[39m, \u001b[38;5;241m5000\u001b[39m)\n\u001b[0;32m---> 16\u001b[0m \u001b[38;5;28mprint\u001b[39m(\u001b[43memp_1\u001b[49m\u001b[38;5;241;43m.\u001b[39;49m\u001b[43mfullname\u001b[49m\u001b[43m(\u001b[49m\u001b[43m)\u001b[49m)\n",
      "\u001b[0;31mTypeError\u001b[0m: fullname() takes 0 positional arguments but 1 was given"
     ]
    }
   ],
   "source": [
    "class Employee:\n",
    "    def __init__(self, first, last, pay):\n",
    "        self.first = first\n",
    "        self.last = last\n",
    "        self.pay = pay\n",
    "        self.email  = first.lower() + '.' + last.lower() + '@company.com'\n",
    "\n",
    "\n",
    "    # Removing `self` to generate error, to learn more.\n",
    "    def fullname():\n",
    "        return f'{self.first} {self.last}'\n",
    "\n",
    "# Note: This time its much smaller  and more readable\n",
    "emp_1 = Employee('Foo', 'End', 5000)\n",
    "\n",
    "print(emp_1.fullname())\n",
    "\n"
   ]
  },
  {
   "cell_type": "markdown",
   "metadata": {},
   "source": [
    "See in the above `TypeError` its says:\n",
    "\n",
    "- TypeError: fullname() takes 0 positional arguments but 1 was given\n",
    "- This would be confusing, because in function we are not taking any argument (we will think so, but, the self.name is already we are using by default.)"
   ]
  },
  {
   "cell_type": "markdown",
   "metadata": {},
   "source": [
    "<br>\n",
    "\n",
    "---\n",
    "---"
   ]
  },
  {
   "cell_type": "code",
   "execution_count": 65,
   "metadata": {},
   "outputs": [
    {
     "name": "stdout",
     "output_type": "stream",
     "text": [
      "Foo End\n",
      "Foo End\n"
     ]
    }
   ],
   "source": [
    "class Employee:\n",
    "    def __init__(self, first, last, pay):\n",
    "        self.first = first\n",
    "        self.last = last\n",
    "        self.pay = pay\n",
    "        self.email  = first.lower() + '.' + last.lower() + '@company.com'\n",
    "\n",
    "\n",
    "    # Removing `self` to generate error, to learn more.\n",
    "    def fullname(self):\n",
    "        return f'{self.first} {self.last}'\n",
    "\n",
    "# Note: This time its much smaller  and more readable\n",
    "emp_1 = Employee('Foo', 'End', 5000)\n",
    "\n",
    "# One way\n",
    "print(emp_1.fullname())\n",
    "\n",
    "# Another way\n",
    "print(Employee.fullname(emp_1))"
   ]
  },
  {
   "cell_type": "markdown",
   "metadata": {},
   "source": [
    "#### Trying to understand `__init__`"
   ]
  },
  {
   "cell_type": "code",
   "execution_count": 76,
   "metadata": {},
   "outputs": [
    {
     "ename": "TypeError",
     "evalue": "set_data() missing 1 required positional argument: 'salary'",
     "output_type": "error",
     "traceback": [
      "\u001b[0;31m---------------------------------------------------------------------------\u001b[0m",
      "\u001b[0;31mTypeError\u001b[0m                                 Traceback (most recent call last)",
      "Cell \u001b[0;32mIn[76], line 9\u001b[0m\n\u001b[1;32m      5\u001b[0m         \u001b[38;5;28mself\u001b[39m\u001b[38;5;241m.\u001b[39mage \u001b[38;5;241m=\u001b[39m age\n\u001b[1;32m      6\u001b[0m         \u001b[38;5;28mself\u001b[39m\u001b[38;5;241m.\u001b[39msalary \u001b[38;5;241m=\u001b[39m salary\n\u001b[0;32m----> 9\u001b[0m emp1 \u001b[38;5;241m=\u001b[39m \u001b[43mEmployee\u001b[49m\u001b[38;5;241;43m.\u001b[39;49m\u001b[43mset_data\u001b[49m\u001b[43m(\u001b[49m\u001b[38;5;124;43m'\u001b[39;49m\u001b[38;5;124;43mFoo\u001b[39;49m\u001b[38;5;124;43m'\u001b[39;49m\u001b[43m,\u001b[49m\u001b[43m \u001b[49m\u001b[38;5;124;43m'\u001b[39;49m\u001b[38;5;124;43m20\u001b[39;49m\u001b[38;5;124;43m'\u001b[39;49m\u001b[43m,\u001b[49m\u001b[43m \u001b[49m\u001b[38;5;124;43m'\u001b[39;49m\u001b[38;5;124;43m2000\u001b[39;49m\u001b[38;5;124;43m'\u001b[39;49m\u001b[43m)\u001b[49m\n\u001b[1;32m     11\u001b[0m \u001b[38;5;28mprint\u001b[39m(emp1\u001b[38;5;241m.\u001b[39mname)\n",
      "\u001b[0;31mTypeError\u001b[0m: set_data() missing 1 required positional argument: 'salary'"
     ]
    }
   ],
   "source": [
    "\n",
    "class Employee:\n",
    "\n",
    "    def set_data(self,name,age,salary):\n",
    "        self.name = name\n",
    "        self.age = age\n",
    "        self.salary = salary\n",
    "\n",
    "\n",
    "emp1 = Employee.set_data('Foo', '20', '2000')\n",
    "\n",
    "print(emp1.name)\n"
   ]
  },
  {
   "cell_type": "code",
   "execution_count": 78,
   "metadata": {},
   "outputs": [
    {
     "name": "stdout",
     "output_type": "stream",
     "text": [
      "Foo\n"
     ]
    }
   ],
   "source": [
    "\n",
    "class Employee:\n",
    "\n",
    "    def __init__(self,name,age,salary):\n",
    "        self.name = name\n",
    "        self.age = age\n",
    "        self.salary = salary\n",
    "\n",
    "\n",
    "emp1 = Employee('Foo', '20', '2000')\n",
    "\n",
    "print(emp1.name)\n"
   ]
  },
  {
   "cell_type": "markdown",
   "metadata": {},
   "source": [
    "In the above where I am updating in `set_data` is not working, however in the down using `__init__` is working fine.\n",
    "\n",
    "- Makesure, when you creating an object its shoud be in the same `class` indetation."
   ]
  },
  {
   "cell_type": "code",
   "execution_count": 79,
   "metadata": {},
   "outputs": [
    {
     "name": "stdout",
     "output_type": "stream",
     "text": [
      "Foo\n"
     ]
    }
   ],
   "source": [
    "class Employee:\n",
    "\n",
    "    def set_data(self,name,age,salary):\n",
    "        self.name = name\n",
    "        self.age = age\n",
    "        self.salary = salary\n",
    "\n",
    "\n",
    "emp1 = Employee()\n",
    "emp1.set_data('Foo', '20', '2000')\n",
    "\n",
    "print(emp1.name)\n"
   ]
  },
  {
   "cell_type": "markdown",
   "metadata": {},
   "source": [
    "However in this above example, we have to use the same in two fold:\n",
    "- First creating an empty object with `emp1 = Employee()` and then setting updata to that object using `set_data` method.\n",
    "- However I believe the best way is using `__init__` is good options."
   ]
  },
  {
   "cell_type": "markdown",
   "metadata": {},
   "source": [
    "<br>\n",
    "\n",
    "---\n",
    "---"
   ]
  },
  {
   "cell_type": "code",
   "execution_count": 80,
   "metadata": {},
   "outputs": [
    {
     "name": "stdout",
     "output_type": "stream",
     "text": [
      "Tiger is now sitting.\n",
      "Tiger rolled over!\n"
     ]
    }
   ],
   "source": [
    "class Dog:\n",
    "\n",
    "    \"\"\"A simple attempt to model a dog.\"\"\"\n",
    "\n",
    "    def __init__(self, name, age):\n",
    "        \"\"\"Initialize a dog with a name and age.\"\"\"\n",
    "        self.name = name\n",
    "        self.age = age\n",
    "\n",
    "    def sit(self):\n",
    "        \"Simulating a dog sitting in a response to a command.\"\n",
    "        print(f\"{self.name} is now sitting.\")\n",
    "\n",
    "\n",
    "    def roll_over(self):\n",
    "        print(f\"{self.name} rolled over!\")\n",
    "\n",
    "\n",
    "d1 = Dog(\"Tiger\", 7)\n",
    "\n",
    "d1.sit()\n",
    "d1.roll_over()"
   ]
  },
  {
   "cell_type": "code",
   "execution_count": null,
   "metadata": {},
   "outputs": [],
   "source": []
  }
 ],
 "metadata": {
  "kernelspec": {
   "display_name": "Python 3",
   "language": "python",
   "name": "python3"
  },
  "language_info": {
   "codemirror_mode": {
    "name": "ipython",
    "version": 3
   },
   "file_extension": ".py",
   "mimetype": "text/x-python",
   "name": "python",
   "nbconvert_exporter": "python",
   "pygments_lexer": "ipython3",
   "version": "3.9.6"
  }
 },
 "nbformat": 4,
 "nbformat_minor": 2
}
