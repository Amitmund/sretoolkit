{
 "cells": [
  {
   "cell_type": "markdown",
   "metadata": {},
   "source": [
    "## Class"
   ]
  },
  {
   "cell_type": "markdown",
   "metadata": {},
   "source": [
    "`Paradigm` means the principle how a program should be organized.\n",
    "\n",
    "Python support 3 type of paradigm:\n",
    "- Structured Programming\n",
    "- Functional Programming\n",
    "- Object oriented programming.\n"
   ]
  },
  {
   "cell_type": "markdown",
   "metadata": {},
   "source": [
    "<br>\n",
    "\n",
    "---\n",
    "---"
   ]
  },
  {
   "cell_type": "markdown",
   "metadata": {},
   "source": [
    "`Class ---- Instance ---> Object`\n",
    "\n",
    "<br>\n",
    "\n",
    "> `Objects` are get created using `class`, and this `object` getting created is known as `Instance` of the `class`.\n",
    "\n",
    "\n",
    "A Class describes two things:\n",
    "- Object(s) created from the Class\n",
    "- Functionality it will have.\n",
    "- Make the first letter of the classname in Capital letter.\n",
    "\n",
    "<br>\n",
    "\n",
    "\n",
    "This class have a  `properties` and `methods`.\n",
    "\n",
    "\n",
    "<br>\n",
    "\n",
    "Note:\n",
    "> In python everytype is a Class.\n",
    "> So, `str` is an object.  And all the strings object created will be having the same `methods`."
   ]
  },
  {
   "cell_type": "markdown",
   "metadata": {},
   "source": [
    "The Specific data in an object is often called `instance data ` or `properties | state | attributes` of the object.  `Methods` in an object are called  `instance methods`.\n"
   ]
  },
  {
   "cell_type": "markdown",
   "metadata": {},
   "source": [
    "> When you create individual objects from the class, each object is automatically equipped with the general behavior.\n",
    "\n",
    "Making an object from a class is called `instantiation`"
   ]
  },
  {
   "cell_type": "markdown",
   "metadata": {},
   "source": [
    "<br>\n",
    "\n",
    "---\n",
    "---\n",
    "\n",
    "<br>\n"
   ]
  },
  {
   "cell_type": "markdown",
   "metadata": {},
   "source": [
    "### The Constructor Function __init__():\n",
    "\n",
    "- The constructor function is a special function that is called when an object is created. It is used to  initialize the properties of the object.\n",
    "- It's a method(function) that is `automatically ran` when an object is created. It `creates an instance` of a specific class.\n",
    "\n",
    "\n",
    "```\n",
    "__init__()\n",
    "```\n",
    "\n",
    "- A function that's part of a class is a `method`.\n",
    "- The `__init__()` method is a special method that python runs automatically, whenever we create a new instance based on the class.\n",
    "- This is the name `we must` use for our constructor function.\n",
    "\n",
    "- We create our `Constructor method` (__init__). This is where we define the `properties` our class will need.\n",
    "- Your `arguments | property` must match your `parameters`.\n",
    "- `Value` of my property is `parameter`.\n",
    "- Left side is my `property` and right side is the `value` got it using the `parameter`.\n",
    "- `self` -> is like a `key`. It unlocks the class so we can use the properties and methods throughout.\n",
    "\n",
    "\n",
    "## self\n",
    "\n",
    "- `self` is alwasy and must be the `1st` parameter of all the `method`, which also include for the `constructor method`.\n",
    "- Every method call associated with an instance automatically passes `self`, which is a reference to the instance itself.\n",
    "- It gives the individual instance access to the attributes and methods in the class.\n",
    "\n",
    "- Any variable prefixed with `self` is available to every method in the class, and we will also be able to access these variables through any instance created from a class. \n",
    "\n",
    "- If a methods other then __init__(), which don't need any additional information to run, we just define them to have `self` parameter. The instance we create later will have access to these methods. \n",
    "\n",
    "\n"
   ]
  },
  {
   "cell_type": "code",
   "execution_count": 1,
   "metadata": {},
   "outputs": [
    {
     "name": "stdout",
     "output_type": "stream",
     "text": [
      "The speed is: 30\n"
     ]
    }
   ],
   "source": [
    "class My_class():\n",
    "    def __init__(self, parameter1, paramenter2):\n",
    "        self.property1 = parameter1\n",
    "        self.property2 = paramenter2\n",
    "\n",
    "    # This method uses the values from our two properties and get the sum.\n",
    "    def drive(self):\n",
    "        x = self.property1 + self.property2\n",
    "        print(\"The speed is:\", x)\n",
    "\n",
    "car =  My_class(10, 20)\n",
    "car.drive()"
   ]
  },
  {
   "cell_type": "markdown",
   "metadata": {},
   "source": [
    "\n",
    "<br>\n",
    "\n",
    "---\n",
    "---\n"
   ]
  },
  {
   "cell_type": "markdown",
   "metadata": {},
   "source": [
    "\n",
    "### `user-defined` class:\n",
    "\n",
    "We can create an `user-defined` functions too."
   ]
  },
  {
   "cell_type": "code",
   "execution_count": 4,
   "metadata": {},
   "outputs": [
    {
     "name": "stdout",
     "output_type": "stream",
     "text": [
      "foo.end@company.com\n",
      "bar.last@company.com\n"
     ]
    }
   ],
   "source": [
    "class Employee:\n",
    "    # Here we have have 4 parameter and we need to make use of all this 4 paramater as property.)\n",
    "    def __init__(self, first, last, pay):\n",
    "        self.first = first\n",
    "        self.last = last\n",
    "        self.pay = pay\n",
    "        self.email  = first.lower() + '.' + last.lower() + '@company.com'\n",
    "\n",
    "\n",
    "# Note: This time its much smaller  and more readable\n",
    "emp_1 = Employee('Foo', 'End', 5000)\n",
    "emp_2 = Employee('Bar', 'Last', 6000)    \n",
    "\n",
    "\n",
    "print(emp_1.email)\n",
    "print(emp_2.email)   # Output: Bar.Last@company.com\n",
    "\n",
    "\n",
    "\n"
   ]
  },
  {
   "cell_type": "markdown",
   "metadata": {},
   "source": [
    "Note:\n",
    "- Not a must, but using the same argument name and self.property would be easy for troubleshooting.\n",
    "- I was using `first` in the argument and was using `self.name` which was causing issue.\n",
    "- Good practice would be using `first` and `self.first` will be easy.\n",
    "\n",
    "- `self` is critical.\n",
    "- if you don't use `self` you will get error, something line you are expecting "
   ]
  },
  {
   "cell_type": "markdown",
   "metadata": {},
   "source": [
    "<br>\n",
    "\n",
    "---\n",
    "---\n",
    "\n",
    "<br>"
   ]
  },
  {
   "cell_type": "code",
   "execution_count": 24,
   "metadata": {},
   "outputs": [
    {
     "name": "stdout",
     "output_type": "stream",
     "text": [
      "foo.end@company.com\n",
      "bar.last@company.com\n",
      "Foo End\n",
      "Bar Last\n"
     ]
    }
   ],
   "source": [
    "class Employee:\n",
    "    def __init__(self, first, last, pay):\n",
    "        self.first = first\n",
    "        self.last = last\n",
    "        self.pay = pay\n",
    "        self.email  = first.lower() + '.' + last.lower() + '@company.com'\n",
    "\n",
    "\n",
    "    # creating a method # Make sure, it need to be in the same indentation of the class.\n",
    "    def fullname(self):\n",
    "        return f'{self.first} {self.last}'\n",
    "\n",
    "# Note: This time its much smaller  and more readable\n",
    "emp_1 = Employee('Foo', 'End', 5000)\n",
    "emp_2 = Employee('Bar', 'Last', 6000)    \n",
    "\n",
    "\n",
    "print(emp_1.email)    # Object.property\n",
    "print(emp_2.email)    # Output: Bar.Last@company.com\n",
    "\n",
    "print(emp_1.fullname())    #Object.method()\n",
    "print(emp_2.fullname())  # Output: Bar Last"
   ]
  },
  {
   "cell_type": "markdown",
   "metadata": {},
   "source": [
    "<br>\n",
    "\n",
    "---\n",
    "---\n",
    "\n",
    "<br>"
   ]
  },
  {
   "cell_type": "markdown",
   "metadata": {},
   "source": [
    "##### Removing `self` to generate error, to learn more"
   ]
  },
  {
   "cell_type": "code",
   "execution_count": 26,
   "metadata": {},
   "outputs": [
    {
     "ename": "TypeError",
     "evalue": "fullname() takes 0 positional arguments but 1 was given",
     "output_type": "error",
     "traceback": [
      "\u001b[0;31m---------------------------------------------------------------------------\u001b[0m",
      "\u001b[0;31mTypeError\u001b[0m                                 Traceback (most recent call last)",
      "Cell \u001b[0;32mIn[26], line 16\u001b[0m\n\u001b[1;32m     13\u001b[0m \u001b[38;5;66;03m# Note: This time its much smaller  and more readable\u001b[39;00m\n\u001b[1;32m     14\u001b[0m emp_1 \u001b[38;5;241m=\u001b[39m Employee(\u001b[38;5;124m'\u001b[39m\u001b[38;5;124mFoo\u001b[39m\u001b[38;5;124m'\u001b[39m, \u001b[38;5;124m'\u001b[39m\u001b[38;5;124mEnd\u001b[39m\u001b[38;5;124m'\u001b[39m, \u001b[38;5;241m5000\u001b[39m)\n\u001b[0;32m---> 16\u001b[0m \u001b[38;5;28mprint\u001b[39m(\u001b[43memp_1\u001b[49m\u001b[38;5;241;43m.\u001b[39;49m\u001b[43mfullname\u001b[49m\u001b[43m(\u001b[49m\u001b[43m)\u001b[49m)\n",
      "\u001b[0;31mTypeError\u001b[0m: fullname() takes 0 positional arguments but 1 was given"
     ]
    }
   ],
   "source": [
    "class Employee:\n",
    "    def __init__(self, first, last, pay):\n",
    "        self.first = first\n",
    "        self.last = last\n",
    "        self.pay = pay\n",
    "        self.email  = first.lower() + '.' + last.lower() + '@company.com'\n",
    "\n",
    "\n",
    "    # Removing `self` to generate error, to learn more.\n",
    "    def fullname():\n",
    "        return f'{self.first} {self.last}'\n",
    "\n",
    "# Note: This time its much smaller  and more readable\n",
    "emp_1 = Employee('Foo', 'End', 5000)\n",
    "\n",
    "print(emp_1.fullname())\n",
    "\n"
   ]
  },
  {
   "cell_type": "markdown",
   "metadata": {},
   "source": [
    "See in the above `TypeError` its says:\n",
    "\n",
    "- TypeError: fullname() takes 0 positional arguments but 1 was given\n",
    "- This would be confusing, because in function we are not taking any argument (we will think so, but, the self.name is already we are using by default.)"
   ]
  },
  {
   "cell_type": "markdown",
   "metadata": {},
   "source": [
    "<br>\n",
    "\n",
    "---\n",
    "---"
   ]
  },
  {
   "cell_type": "code",
   "execution_count": 5,
   "metadata": {},
   "outputs": [
    {
     "name": "stdout",
     "output_type": "stream",
     "text": [
      "Foo End\n",
      "Foo End\n"
     ]
    }
   ],
   "source": [
    "class Employee:\n",
    "    def __init__(self, first, last, pay):\n",
    "        self.first = first\n",
    "        self.last = last\n",
    "        self.pay = pay\n",
    "        self.email  = first.lower() + '.' + last.lower() + '@company.com'\n",
    "\n",
    "\n",
    "    # Removing `self` to generate error, to learn more.\n",
    "    # And you just need `self`. The Class parameter is not needed.\n",
    "    def fullname(self):\n",
    "        return f'{self.first} {self.last}'\n",
    "\n",
    "# Note: This time its much smaller  and more readable\n",
    "emp_1 = Employee('Foo', 'End', 5000)\n",
    "\n",
    "# One way\n",
    "print(emp_1.fullname())\n",
    "\n",
    "# Another way \n",
    "# How ever I would use the previous way, where I an giving a object name first and calling method for that object.\n",
    "print(Employee.fullname(emp_1))"
   ]
  },
  {
   "cell_type": "markdown",
   "metadata": {},
   "source": [
    "<br>\n",
    "\n",
    "---\n",
    "---\n",
    "\n",
    "<br>"
   ]
  },
  {
   "cell_type": "markdown",
   "metadata": {},
   "source": [
    "#### Trying to understand `__init__`"
   ]
  },
  {
   "cell_type": "code",
   "execution_count": 76,
   "metadata": {},
   "outputs": [
    {
     "ename": "TypeError",
     "evalue": "set_data() missing 1 required positional argument: 'salary'",
     "output_type": "error",
     "traceback": [
      "\u001b[0;31m---------------------------------------------------------------------------\u001b[0m",
      "\u001b[0;31mTypeError\u001b[0m                                 Traceback (most recent call last)",
      "Cell \u001b[0;32mIn[76], line 9\u001b[0m\n\u001b[1;32m      5\u001b[0m         \u001b[38;5;28mself\u001b[39m\u001b[38;5;241m.\u001b[39mage \u001b[38;5;241m=\u001b[39m age\n\u001b[1;32m      6\u001b[0m         \u001b[38;5;28mself\u001b[39m\u001b[38;5;241m.\u001b[39msalary \u001b[38;5;241m=\u001b[39m salary\n\u001b[0;32m----> 9\u001b[0m emp1 \u001b[38;5;241m=\u001b[39m \u001b[43mEmployee\u001b[49m\u001b[38;5;241;43m.\u001b[39;49m\u001b[43mset_data\u001b[49m\u001b[43m(\u001b[49m\u001b[38;5;124;43m'\u001b[39;49m\u001b[38;5;124;43mFoo\u001b[39;49m\u001b[38;5;124;43m'\u001b[39;49m\u001b[43m,\u001b[49m\u001b[43m \u001b[49m\u001b[38;5;124;43m'\u001b[39;49m\u001b[38;5;124;43m20\u001b[39;49m\u001b[38;5;124;43m'\u001b[39;49m\u001b[43m,\u001b[49m\u001b[43m \u001b[49m\u001b[38;5;124;43m'\u001b[39;49m\u001b[38;5;124;43m2000\u001b[39;49m\u001b[38;5;124;43m'\u001b[39;49m\u001b[43m)\u001b[49m\n\u001b[1;32m     11\u001b[0m \u001b[38;5;28mprint\u001b[39m(emp1\u001b[38;5;241m.\u001b[39mname)\n",
      "\u001b[0;31mTypeError\u001b[0m: set_data() missing 1 required positional argument: 'salary'"
     ]
    }
   ],
   "source": [
    "\n",
    "class Employee:\n",
    "\n",
    "    def set_data(self,name,age,salary):\n",
    "        self.name = name\n",
    "        self.age = age\n",
    "        self.salary = salary\n",
    "\n",
    "\n",
    "emp1 = Employee.set_data('Foo', '20', '2000')\n",
    "\n",
    "print(emp1.name)\n"
   ]
  },
  {
   "cell_type": "code",
   "execution_count": 78,
   "metadata": {},
   "outputs": [
    {
     "name": "stdout",
     "output_type": "stream",
     "text": [
      "Foo\n"
     ]
    }
   ],
   "source": [
    "\n",
    "class Employee:\n",
    "\n",
    "    def __init__(self,name,age,salary):\n",
    "        self.name = name\n",
    "        self.age = age\n",
    "        self.salary = salary\n",
    "\n",
    "\n",
    "emp1 = Employee('Foo', '20', '2000')\n",
    "\n",
    "print(emp1.name)\n"
   ]
  },
  {
   "cell_type": "markdown",
   "metadata": {},
   "source": [
    "- So, use the `constructor method (__init__) is a good practice."
   ]
  },
  {
   "cell_type": "markdown",
   "metadata": {},
   "source": [
    "<br>\n",
    "\n",
    "---\n",
    "---\n",
    "\n",
    "<br>"
   ]
  },
  {
   "cell_type": "markdown",
   "metadata": {},
   "source": [
    "In the above where I am updating in `set_data` is not working, however in the down using `__init__` is working fine.\n",
    "\n",
    "- Makesure, when you creating an object its shoud be proper indetation. It should not be within the class."
   ]
  },
  {
   "cell_type": "code",
   "execution_count": 6,
   "metadata": {},
   "outputs": [
    {
     "name": "stdout",
     "output_type": "stream",
     "text": [
      "Foo\n"
     ]
    }
   ],
   "source": [
    "class Employee:\n",
    "\n",
    "    def set_data(self,name,age,salary):\n",
    "        self.name = name\n",
    "        self.age = age\n",
    "        self.salary = salary\n",
    "\n",
    "\n",
    "# Created an object first.\n",
    "# Then added the proerties as parameter to the method.\n",
    "emp1 = Employee()\n",
    "emp1.set_data('Foo', '20', '2000')\n",
    "\n",
    "print(emp1.name)\n"
   ]
  },
  {
   "cell_type": "markdown",
   "metadata": {},
   "source": [
    "However in this above example, we have to use the same in two fold:\n",
    "- First creating an empty object with `emp1 = Employee()` and then setting updata to that object using `set_data` method.\n",
    "- However I believe the best way is using `__init__` is good options."
   ]
  },
  {
   "cell_type": "markdown",
   "metadata": {},
   "source": [
    "<br>\n",
    "\n",
    "---\n",
    "---"
   ]
  },
  {
   "cell_type": "markdown",
   "metadata": {},
   "source": [
    "\"\"\" This is a docstring. We can use this to describe about the class. \"\"\""
   ]
  },
  {
   "cell_type": "code",
   "execution_count": 13,
   "metadata": {},
   "outputs": [
    {
     "name": "stdout",
     "output_type": "stream",
     "text": [
      "Facebook is now sitting.\n",
      "Facebook rolled over!\n",
      "My dog's name is `Facebook`.\n",
      "Facebook is 7 years old\n",
      "\n",
      "Candy is now sitting.\n",
      "Candy rolled over!\n"
     ]
    }
   ],
   "source": [
    "class Dog:\n",
    "\n",
    "    \"\"\"A simple attempt to model a Dog.\"\"\"\n",
    "\n",
    "    def __init__(self, name, age):\n",
    "        \"\"\"Initialize a Dog with a name and age.\"\"\"\n",
    "        self.name = name\n",
    "        self.age = age\n",
    "\n",
    "    def sit(self):\n",
    "        \"Simulating a Dog sitting in a response to a command.\"\n",
    "        print(f\"{self.name} is now sitting.\")\n",
    "\n",
    "\n",
    "    def roll_over(self):\n",
    "        print(f\"{self.name} rolled over!\")\n",
    "\n",
    "\n",
    "my_dog = Dog(\"Facebook\", 7)\n",
    "\n",
    "my_dog.sit()\n",
    "my_dog.roll_over()\n",
    "\n",
    "# You can access the attributes of an instance with the dot notation.\n",
    "print(f\"My dog's name is `{my_dog.name}`.\")\n",
    "print(f\"{my_dog.name} is {my_dog.age} years old\\n\")\n",
    "\n",
    "\n",
    "\n",
    "your_dog = Dog(\"Candy\", 10)\n",
    "\n",
    "your_dog.sit()\n",
    "your_dog.roll_over()\n",
    "\n"
   ]
  },
  {
   "cell_type": "markdown",
   "metadata": {},
   "source": [
    "- The naming convention we can assume that a `capitalized` name like `Dog` refers to a class and a lowercase name like `Facebook` refers to a single instance created from a class.\n",
    "- To access the attributes of an instance, you use `.` (dot) notation.\n",
    "- You can call the method as your `instance_name`.`method()`\n",
    "- Example: `my_dog.sit()`"
   ]
  },
  {
   "cell_type": "code",
   "execution_count": null,
   "metadata": {},
   "outputs": [],
   "source": []
  },
  {
   "cell_type": "markdown",
   "metadata": {},
   "source": [
    "<br>\n",
    "\n",
    "---\n",
    "---\n",
    "\n",
    "<br>"
   ]
  },
  {
   "cell_type": "code",
   "execution_count": 1,
   "metadata": {},
   "outputs": [
    {
     "name": "stdout",
     "output_type": "stream",
     "text": [
      "Welcome, owner\n",
      "Your storage is: 255\n",
      "Updated storage 355\n",
      "\n",
      "Ram, Sorry, You don't have the Access.\n"
     ]
    }
   ],
   "source": [
    "class App:\n",
    "\n",
    "    def __init__(self, users, storage, username):\n",
    "        self.users = users\n",
    "        self.storage = storage\n",
    "        self.username =  username\n",
    "\n",
    "    def login(self):\n",
    "        if self.username == \"owner\" and self.users >= 1:\n",
    "            print(\"Welcome,\", self.username)\n",
    "            print(\"Your storage is:\", self.storage)\n",
    "        else:\n",
    "            print(f\"{self.username.capitalize()}, Sorry, You don't have the Access.\")\n",
    "\n",
    "    def increase_storage_capacity(self, number):\n",
    "        self.storage += number\n",
    "        print(\"Updated storage\", self.storage)\n",
    "\n",
    "\n",
    "#\n",
    "\n",
    "p1 = App(35,255,\"owner\")\n",
    "p1.login()\n",
    "p1.increase_storage_capacity(100)\n",
    "print()\n",
    "\n",
    "p2 =App(10,20,\"Ram\")\n",
    "p2.login()\n"
   ]
  },
  {
   "cell_type": "markdown",
   "metadata": {},
   "source": [
    "<br>\n",
    "\n",
    "---\n",
    "---\n",
    "\n",
    "<br>"
   ]
  },
  {
   "cell_type": "code",
   "execution_count": 2,
   "metadata": {},
   "outputs": [
    {
     "name": "stdout",
     "output_type": "stream",
     "text": [
      "'Sunsine' is a 'SouthIndian' restaurant.\n",
      "Sunsine is now open.\n"
     ]
    }
   ],
   "source": [
    "class Restaurant:\n",
    "    def __init__ (self, restaurant_name, cuisine_type):\n",
    "        self.restaurant_name = restaurant_name\n",
    "        self.cuisine_type = cuisine_type\n",
    "\n",
    "    def describe_restaurant(self):\n",
    "        print(f\"'{self.restaurant_name}' is a '{self.cuisine_type}' restaurant.\")\n",
    "\n",
    "    def open_restaurant(self):\n",
    "        print(f\"{self.restaurant_name} is now open.\")\n",
    "\n",
    "my_restaurant = Restaurant(\"Sunsine\", \"SouthIndian\")\n",
    "my_restaurant.describe_restaurant()\n",
    "my_restaurant.open_restaurant()\n"
   ]
  },
  {
   "cell_type": "code",
   "execution_count": 3,
   "metadata": {},
   "outputs": [
    {
     "name": "stdout",
     "output_type": "stream",
     "text": [
      "Hello, My name is Foo and I am 10.\n"
     ]
    }
   ],
   "source": [
    "class User:\n",
    "    def __init__(self, name, age):\n",
    "        self.name = name\n",
    "        self.age = age\n",
    "\n",
    "    def greet(self):\n",
    "        print(f\"Hello, My name is {self.name} and I am {self.age}.\")\n",
    "              \n",
    "user1 = User(\"Foo\",10)\n",
    "user1.greet()\n",
    "\n"
   ]
  },
  {
   "cell_type": "code",
   "execution_count": 4,
   "metadata": {},
   "outputs": [
    {
     "name": "stdout",
     "output_type": "stream",
     "text": [
      "2019 Audi A4\n"
     ]
    }
   ],
   "source": [
    "class Car:\n",
    "    \"\"\"A simple description to represent a Car.\"\"\"\n",
    "    def __init__(self, make, model, year):\n",
    "        \"\"\"Initialize a Car instance.\"\"\"\n",
    "        self.make = make\n",
    "        self.model = model\n",
    "        self.year = year\n",
    "\n",
    "    def get_descriptive_name(self):\n",
    "        \"\"\"Return a neatly formatted descriptive name.\"\"\"\n",
    "        long_name = f\"{self.year} {self.make} {self.model}\"\n",
    "        return long_name.title()\n",
    "\n",
    "my_new_car = Car('audi',  'a4', 2019)\n",
    "print(my_new_car.get_descriptive_name())"
   ]
  },
  {
   "cell_type": "markdown",
   "metadata": {},
   "source": [
    "### Setting a default value for an attribute\n",
    "\n",
    "- When an instance is created, attributes can be defined without being passed in as parameters.\n",
    "- These attributes can be defined in the `__init__()` method, where they are assigned a default value.\n",
    "\n"
   ]
  },
  {
   "cell_type": "code",
   "execution_count": 1,
   "metadata": {},
   "outputs": [
    {
     "name": "stdout",
     "output_type": "stream",
     "text": [
      "2019 Audi A4\n",
      "This car has 0 miles on it.\n"
     ]
    }
   ],
   "source": [
    "class Car:\n",
    "    \"\"\"A simple description to represent a Car.\"\"\"\n",
    "    def __init__(self, make, model, year):\n",
    "        \"\"\"Initialize a Car instance.\"\"\"\n",
    "        self.make = make\n",
    "        self.model = model\n",
    "        self.year = year\n",
    "        # Creating one more attributes `odometer_reading` that always start with a value `0`\n",
    "        self.odometer_reading = 0\n",
    "\n",
    "\n",
    "    def get_descriptive_name(self):\n",
    "        \"\"\"Return a neatly formatted descriptive name.\"\"\"\n",
    "        long_name = f\"{self.year} {self.make} {self.model}\"\n",
    "        return long_name.title()\n",
    "    \n",
    "    def read_odometer(self):\n",
    "        \"\"\"Print a statement shows the car's mileage.\"\"\"\n",
    "        print(f\"This car has {self.odometer_reading} miles on it.\")\n",
    "\n",
    "\n",
    "\n",
    "my_new_car = Car('audi',  'a4', 2019)\n",
    "print(my_new_car.get_descriptive_name())\n",
    "my_new_car.read_odometer()"
   ]
  },
  {
   "cell_type": "markdown",
   "metadata": {},
   "source": [
    "### Modifying an Attribute's Value Directly\n",
    "\n",
    "- We use dot `.` notation to access the car's `odometer_reading` attribute, and set its value directly.\n",
    "- This tells python to take the instance and find the attribute and updated its value."
   ]
  },
  {
   "cell_type": "code",
   "execution_count": 5,
   "metadata": {},
   "outputs": [
    {
     "name": "stdout",
     "output_type": "stream",
     "text": [
      "2019 Audi A4\n",
      "This car has 0 miles on it.\n",
      "\n",
      "2015 Bmw R6\n",
      "This car has 40000 miles on it.\n"
     ]
    }
   ],
   "source": [
    "class Car:\n",
    "    \"\"\"A simple description to represent a Car.\"\"\"\n",
    "    def __init__(self, make, model, year):\n",
    "        \"\"\"Initialize a Car instance.\"\"\"\n",
    "        self.make = make\n",
    "        self.model = model\n",
    "        self.year = year\n",
    "        # Creating one more attributes `odometer_reading` that always start with a value `0`\n",
    "        self.odometer_reading = 0\n",
    "\n",
    "\n",
    "    def get_descriptive_name(self):\n",
    "        \"\"\"Return a neatly formatted descriptive name.\"\"\"\n",
    "        long_name = f\"{self.year} {self.make} {self.model}\"\n",
    "        return long_name.title()\n",
    "    \n",
    "    def read_odometer(self):\n",
    "        \"\"\"Print a statement shows the car's mileage.\"\"\"\n",
    "        print(f\"This car has {self.odometer_reading} miles on it.\")\n",
    "\n",
    "\n",
    "\n",
    "my_new_car = Car('audi',  'a4', 2019)\n",
    "print(my_new_car.get_descriptive_name())\n",
    "my_new_car.read_odometer()\n",
    "print()\n",
    "\n",
    "\n",
    "the_pre_owned_car = Car('BMW',  'R6', 2015)\n",
    "the_pre_owned_car.odometer_reading = 40000\n",
    "print(the_pre_owned_car.get_descriptive_name())\n",
    "the_pre_owned_car.read_odometer()"
   ]
  },
  {
   "cell_type": "markdown",
   "metadata": {},
   "source": [
    "- Sometime you directly update the value, but at the other time:\n",
    "- You pass the new value to a method that handles the updating internally.\n",
    "- Seems its a good idea to use `internal method to update a property value`."
   ]
  },
  {
   "cell_type": "code",
   "execution_count": 8,
   "metadata": {},
   "outputs": [
    {
     "name": "stdout",
     "output_type": "stream",
     "text": [
      "2019 Audi A4\n",
      "This car has 0 miles on it.\n",
      "\n",
      "2015 Bmw R6\n",
      "This car has 45000 miles on it.\n"
     ]
    }
   ],
   "source": [
    "class Car:\n",
    "    \"\"\"A simple description to represent a Car.\"\"\"\n",
    "    def __init__(self, make, model, year):\n",
    "        \"\"\"Initialize a Car instance.\"\"\"\n",
    "        self.make = make\n",
    "        self.model = model\n",
    "        self.year = year\n",
    "        # Creating one more attributes `odometer_reading` that always start with a value `0`\n",
    "        self.odometer_reading = 0\n",
    "\n",
    "\n",
    "    def get_descriptive_name(self):\n",
    "        \"\"\"Return a neatly formatted descriptive name.\"\"\"\n",
    "        long_name = f\"{self.year} {self.make} {self.model}\"\n",
    "        return long_name.title()\n",
    "    \n",
    "    def read_odometer(self):\n",
    "        \"\"\"Print a statement shows the car's mileage.\"\"\"\n",
    "        print(f\"This car has {self.odometer_reading} miles on it.\")\n",
    "    \n",
    "    # Creating a method to update the property value.\n",
    "    def update_odometer(self, mileage):\n",
    "        \"\"\"Set the odometer reading to the given value.\"\"\"\n",
    "        self.odometer_reading = mileage\n",
    "\n",
    "my_new_car = Car('audi',  'a4', 2019)\n",
    "print(my_new_car.get_descriptive_name())\n",
    "my_new_car.read_odometer()\n",
    "print()\n",
    "\n",
    "\n",
    "the_pre_owned_car = Car('BMW',  'R6', 2015)\n",
    "the_pre_owned_car.update_odometer(45000)\n",
    "print(the_pre_owned_car.get_descriptive_name())\n",
    "the_pre_owned_car.read_odometer()"
   ]
  },
  {
   "cell_type": "code",
   "execution_count": 10,
   "metadata": {},
   "outputs": [
    {
     "name": "stdout",
     "output_type": "stream",
     "text": [
      "2019 Audi A4\n",
      "This car has 0 miles on it.\n",
      "\n",
      "2015 Bmw R6\n",
      "This car has 45000 miles on it.\n",
      "You can't roll back an odometer!\n",
      "This car has 45000 miles on it.\n"
     ]
    }
   ],
   "source": [
    "class Car:\n",
    "    \"\"\"A simple description to represent a Car.\"\"\"\n",
    "    def __init__(self, make, model, year):\n",
    "        \"\"\"Initialize a Car instance.\"\"\"\n",
    "        self.make = make\n",
    "        self.model = model\n",
    "        self.year = year\n",
    "        # Creating one more attributes `odometer_reading` that always start with a value `0`\n",
    "        self.odometer_reading = 0\n",
    "\n",
    "\n",
    "    def get_descriptive_name(self):\n",
    "        \"\"\"Return a neatly formatted descriptive name.\"\"\"\n",
    "        long_name = f\"{self.year} {self.make} {self.model}\"\n",
    "        return long_name.title()\n",
    "    \n",
    "    def read_odometer(self):\n",
    "        \"\"\"Print a statement shows the car's mileage.\"\"\"\n",
    "        print(f\"This car has {self.odometer_reading} miles on it.\")\n",
    "    \n",
    "    # Creating a method to update the property value.\n",
    "    def update_odometer(self, mileage):\n",
    "        \"\"\"Set the odometer reading to the given value.\n",
    "           Reject the change if it attempts to roll the odometer back.\n",
    "        \"\"\"\n",
    "        if mileage >= self.odometer_reading:\n",
    "            self.odometer_reading = mileage\n",
    "        else:\n",
    "            print(\"You can't roll back an odometer!\")\n",
    "\n",
    "my_new_car = Car('audi',  'a4', 2019)\n",
    "print(my_new_car.get_descriptive_name())\n",
    "my_new_car.read_odometer()\n",
    "print()\n",
    "\n",
    "\n",
    "the_pre_owned_car = Car('BMW',  'R6', 2015)\n",
    "the_pre_owned_car.update_odometer(45000)\n",
    "print(the_pre_owned_car.get_descriptive_name())\n",
    "the_pre_owned_car.read_odometer()\n",
    "\n",
    "# Trying to roll back the odometer.\n",
    "the_pre_owned_car.update_odometer(30000)\n",
    "the_pre_owned_car.read_odometer()\n"
   ]
  },
  {
   "cell_type": "code",
   "execution_count": 16,
   "metadata": {},
   "outputs": [
    {
     "name": "stdout",
     "output_type": "stream",
     "text": [
      "2019 Audi A4\n",
      "This car has 0 miles on it.\n",
      "\n",
      "2015 Bmw R6\n",
      "This car has 45000 miles on it.\n",
      "You can't roll back an odometer!\n",
      "This car has 45000 miles on it.\n",
      "\n",
      "This car has 45100 miles on it.\n",
      "You can't roll back an odometer!\n",
      "\n",
      "This car has 45100 miles on it.\n"
     ]
    }
   ],
   "source": [
    "class Car:\n",
    "    \"\"\"A simple description to represent a Car.\"\"\"\n",
    "    def __init__(self, make, model, year):\n",
    "        \"\"\"Initialize a Car instance.\"\"\"\n",
    "        self.make = make\n",
    "        self.model = model\n",
    "        self.year = year\n",
    "        # Creating one more attributes `odometer_reading` that always start with a value `0`\n",
    "        self.odometer_reading = 0\n",
    "\n",
    "\n",
    "    def get_descriptive_name(self):\n",
    "        \"\"\"Return a neatly formatted descriptive name.\"\"\"\n",
    "        long_name = f\"{self.year} {self.make} {self.model}\"\n",
    "        return long_name.title()\n",
    "    \n",
    "    def read_odometer(self):\n",
    "        \"\"\"Print a statement shows the car's mileage.\"\"\"\n",
    "        print(f\"This car has {self.odometer_reading} miles on it.\")\n",
    "    \n",
    "    # Creating a method to update the property value.\n",
    "    def update_odometer(self, mileage):\n",
    "        \"\"\"Set the odometer reading to the given value.\n",
    "           Reject the change if it attempts to roll the odometer back.\n",
    "        \"\"\"\n",
    "        if mileage >= self.odometer_reading:\n",
    "            self.odometer_reading = mileage\n",
    "        else:\n",
    "            print(\"You can't roll back an odometer!\")\n",
    "\n",
    "    # Creating a method to increment_odometer.\n",
    "    def  increment_odometer(self, miles):\n",
    "        \"\"\"Increment the odometer reading by the given amount.\"\"\"\n",
    "        if miles >= 0:\n",
    "            self.odometer_reading += miles\n",
    "        else:\n",
    "            print(\"You can't roll back an odometer!\")\n",
    "\n",
    "\n",
    "my_new_car = Car('audi',  'a4', 2019)\n",
    "print(my_new_car.get_descriptive_name())\n",
    "my_new_car.read_odometer()\n",
    "print()\n",
    "\n",
    "\n",
    "the_pre_owned_car = Car('BMW',  'R6', 2015)\n",
    "the_pre_owned_car.update_odometer(45000)\n",
    "print(the_pre_owned_car.get_descriptive_name())\n",
    "the_pre_owned_car.read_odometer()\n",
    "\n",
    "# Trying to roll back the odometer.\n",
    "the_pre_owned_car.update_odometer(30000)\n",
    "the_pre_owned_car.read_odometer()\n",
    "\n",
    "\n",
    "# Increment_odometer.\n",
    "the_pre_owned_car.increment_odometer(100)\n",
    "print()\n",
    "the_pre_owned_car.read_odometer()\n",
    "\n",
    "\n",
    "# Increment_odometer.\n",
    "# Checking if -ve number works.\n",
    "the_pre_owned_car.increment_odometer(-80)\n",
    "print()\n",
    "the_pre_owned_car.read_odometer()\n",
    "\n"
   ]
  },
  {
   "cell_type": "markdown",
   "metadata": {},
   "source": [
    "<br>\n",
    "\n",
    "---\n",
    "---\n",
    "\n",
    "<br>"
   ]
  },
  {
   "cell_type": "markdown",
   "metadata": {},
   "source": [
    "## Inheritance:"
   ]
  },
  {
   "cell_type": "markdown",
   "metadata": {},
   "source": [
    "- When creating a Child class, `pass the Superclass in as a parameter`"
   ]
  },
  {
   "cell_type": "markdown",
   "metadata": {},
   "source": [
    "![inheritance-fig1](./images/fig-inheritance-1.png)"
   ]
  },
  {
   "cell_type": "markdown",
   "metadata": {},
   "source": [
    "![inheritance-fig2](./images/fig-inheritance-2.png)"
   ]
  },
  {
   "cell_type": "markdown",
   "metadata": {},
   "source": [
    "![understanding_super_method](./images/fig-inheritance-3.png)"
   ]
  },
  {
   "cell_type": "code",
   "execution_count": 8,
   "metadata": {},
   "outputs": [
    {
     "name": "stdout",
     "output_type": "stream",
     "text": [
      "Name: Foo\n",
      "You are:,25.\n",
      "Location: Milkyway\n",
      "Adult\n"
     ]
    }
   ],
   "source": [
    "class Main:\n",
    "    def  __init__(self,name,age,location):\n",
    "        self.name=name\n",
    "        self.age=int(age)\n",
    "        self.location=location\n",
    "\n",
    "    def user_info(self):\n",
    "        print(f\"Name: {self.name}\")\n",
    "        print(f\"You are:,{self.age}.\")\n",
    "        print(f\"Location: {self.location}\")\n",
    "\n",
    "\n",
    "\n",
    "# Creating child class:\n",
    "\n",
    "class UserScore(Main):\n",
    "    def  __init__(self,name,age,location,score):\n",
    "        super().__init__(name,age,location)\n",
    "        self.score =score\n",
    "\n",
    "    \n",
    "    def check_age(self):\n",
    "        if self.age >= 70:\n",
    "            return \"Senior\"\n",
    "        elif self.age <= 17:\n",
    "            return \"Minor\"\n",
    "        else:\n",
    "            return \"Adult\"\n",
    "        \n",
    "\n",
    "user1 = UserScore(\"Foo\", 25, \"Milkyway\", 2)\n",
    "user1.user_info()\n",
    "\n",
    "print(user1.check_age())\n",
    "\n",
    "\n",
    "\n"
   ]
  },
  {
   "cell_type": "markdown",
   "metadata": {},
   "source": [
    "- We are `initializing the properties from the Superclass` by using the `super()` function as well as creating\n",
    "- `1 new property` for the child class."
   ]
  },
  {
   "cell_type": "markdown",
   "metadata": {},
   "source": [
    "<br>\n",
    "\n",
    "---\n",
    "---\n",
    "\n",
    "<br>"
   ]
  }
 ],
 "metadata": {
  "kernelspec": {
   "display_name": "Python 3",
   "language": "python",
   "name": "python3"
  },
  "language_info": {
   "codemirror_mode": {
    "name": "ipython",
    "version": 3
   },
   "file_extension": ".py",
   "mimetype": "text/x-python",
   "name": "python",
   "nbconvert_exporter": "python",
   "pygments_lexer": "ipython3",
   "version": "3.9.6"
  }
 },
 "nbformat": 4,
 "nbformat_minor": 2
}
