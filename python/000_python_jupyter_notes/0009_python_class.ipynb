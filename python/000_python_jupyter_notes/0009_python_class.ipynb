{
 "cells": [
  {
   "cell_type": "markdown",
   "metadata": {},
   "source": [
    "## Class"
   ]
  },
  {
   "cell_type": "markdown",
   "metadata": {},
   "source": [
    "`Paradigm` means the principle how a program should be organized.\n",
    "\n",
    "Python support 3 type of paradigm:\n",
    "- Structured Programming\n",
    "- Functional Programming\n",
    "- Object oriented programming.\n"
   ]
  },
  {
   "cell_type": "markdown",
   "metadata": {},
   "source": [
    "<br>\n",
    "\n",
    "---\n",
    "---"
   ]
  },
  {
   "cell_type": "markdown",
   "metadata": {},
   "source": [
    "`Class ---- Instance ---> Object`\n",
    "\n",
    "> `Objects` are get created using `class`, and this `object` getting created is known as `Instance` of the `class`.\n",
    "\n",
    "\n",
    "A Class describes two things:\n",
    "- Object(s) created from the Class\n",
    "- Functionality it will have.\n",
    "\n",
    "This have `properties` and `methods`.\n",
    "\n",
    "Note:\n",
    "> In python everytype is a Class.\n",
    "> So, `str` is an object.  And all the strings object created will be having the same `methods`."
   ]
  },
  {
   "cell_type": "markdown",
   "metadata": {},
   "source": [
    "The Specific data in an object is often called `instance data ` or `properties | state | attributes` of the object.  `Methods` in an object are called  `instance methods`.\n"
   ]
  },
  {
   "cell_type": "markdown",
   "metadata": {},
   "source": [
    "\n",
    "<br>\n",
    "\n",
    "---\n",
    "---\n"
   ]
  },
  {
   "cell_type": "markdown",
   "metadata": {},
   "source": [
    "\n",
    "### `user-defined` class."
   ]
  },
  {
   "cell_type": "code",
   "execution_count": null,
   "metadata": {},
   "outputs": [],
   "source": []
  },
  {
   "cell_type": "code",
   "execution_count": null,
   "metadata": {},
   "outputs": [],
   "source": []
  }
 ],
 "metadata": {
  "language_info": {
   "name": "python"
  }
 },
 "nbformat": 4,
 "nbformat_minor": 2
}
