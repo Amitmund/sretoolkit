{
 "cells": [
  {
   "cell_type": "markdown",
   "metadata": {},
   "source": [
    "## Notes on Python programming from a training center"
   ]
  },
  {
   "cell_type": "markdown",
   "metadata": {},
   "source": [
    "### Topics\n",
    "\n",
    "- Introduction to Python\n",
    "- Sequences and File Operations\n",
    "- Deep Dive functions and OOPs\n",
    "- Woring with Modules and Handling Exceptions\n",
    "- Introduction to NumPy\n",
    "- Data Manipulation Using Pandas\n",
    "- Data Visualization Using Matplotlib\n",
    "- Data Visualization Using Seaborn\n",
    "- Introduction to Scikit-learn\n",
    "- Introduction to TensorFlow\n",
    "- Introduction to Keras\n",
    "- Introduction to PyTorch\n",
    "- Introduction to OpenCV\n",
    "- Introduction to Scrapy\n",
    "- Introduction to Flask\n",
    "- Introduction to Django\n",
    "- Introduction to FastAPI\n",
    "- Introduction to Celery\n",
    "- GUI Programming\n"
   ]
  },
  {
   "cell_type": "code",
   "execution_count": null,
   "metadata": {},
   "outputs": [],
   "source": []
  }
 ],
 "metadata": {
  "language_info": {
   "name": "python"
  }
 },
 "nbformat": 4,
 "nbformat_minor": 2
}
