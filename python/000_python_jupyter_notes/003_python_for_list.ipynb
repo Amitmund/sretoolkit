{
 "cells": [
  {
   "cell_type": "markdown",
   "metadata": {},
   "source": [
    "## Python For loop with List"
   ]
  },
  {
   "cell_type": "code",
   "execution_count": 1,
   "metadata": {},
   "outputs": [
    {
     "name": "stdout",
     "output_type": "stream",
     "text": [
      "antman\n",
      "spiderman\n",
      "heman\n",
      "batman\n",
      "wonderwoman\n"
     ]
    }
   ],
   "source": [
    "cartoon = ['antman', 'spiderman', 'heman', 'batman', 'wonderwoman']\n",
    "\n",
    "for superhero in cartoon:\n",
    "    print(superhero)"
   ]
  },
  {
   "cell_type": "code",
   "execution_count": 35,
   "metadata": {},
   "outputs": [
    {
     "name": "stdout",
     "output_type": "stream",
     "text": [
      "Antman, that was a great power!\n",
      "I can't wait to see your next trick, Antman\n",
      "\n",
      "Spiderman, that was a great power!\n",
      "I can't wait to see your next trick, Spiderman\n",
      "\n",
      "Heman, that was a great power!\n",
      "I can't wait to see your next trick, Heman\n",
      "\n",
      "Batman, that was a great power!\n",
      "I can't wait to see your next trick, Batman\n",
      "\n",
      "Wonderwoman, that was a great power!\n",
      "I can't wait to see your next trick, Wonderwoman\n",
      "\n",
      "\u001b[33;41mI am out of the for loop now.\u001b[0m\n"
     ]
    }
   ],
   "source": [
    "cartoon = ['antman', 'spiderman', 'heman', 'batman', 'wonderwoman']\n",
    "\n",
    "for superhero in cartoon:\n",
    "    print(f\"{superhero.title()}, that was a great power!\")\n",
    "    print(f\"I can't wait to see your next trick, {superhero.title()}\\n\")\n",
    "\n",
    "\n",
    "# Setting up color and then clearing of that color setting at the end of the line.\n",
    "# 3n for text color and 4n for background color.\n",
    "print(\"\\033[33;41mI am out of the for loop now.\\033[0m\")"
   ]
  },
  {
   "cell_type": "code",
   "execution_count": null,
   "metadata": {},
   "outputs": [],
   "source": []
  }
 ],
 "metadata": {
  "kernelspec": {
   "display_name": "Python 3",
   "language": "python",
   "name": "python3"
  },
  "language_info": {
   "codemirror_mode": {
    "name": "ipython",
    "version": 3
   },
   "file_extension": ".py",
   "mimetype": "text/x-python",
   "name": "python",
   "nbconvert_exporter": "python",
   "pygments_lexer": "ipython3",
   "version": "3.9.6"
  }
 },
 "nbformat": 4,
 "nbformat_minor": 2
}
