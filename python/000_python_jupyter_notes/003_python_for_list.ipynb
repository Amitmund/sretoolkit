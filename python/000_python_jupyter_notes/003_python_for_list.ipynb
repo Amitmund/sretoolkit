{
 "cells": [
  {
   "cell_type": "markdown",
   "metadata": {},
   "source": [
    "## Python For loop with List"
   ]
  },
  {
   "cell_type": "code",
   "execution_count": 1,
   "metadata": {},
   "outputs": [
    {
     "name": "stdout",
     "output_type": "stream",
     "text": [
      "antman\n",
      "spiderman\n",
      "heman\n",
      "batman\n",
      "wonderwoman\n"
     ]
    }
   ],
   "source": [
    "cartoon = ['antman', 'spiderman', 'heman', 'batman', 'wonderwoman']\n",
    "\n",
    "for superhero in cartoon:\n",
    "    print(superhero)"
   ]
  },
  {
   "cell_type": "code",
   "execution_count": 35,
   "metadata": {},
   "outputs": [
    {
     "name": "stdout",
     "output_type": "stream",
     "text": [
      "Antman, that was a great power!\n",
      "I can't wait to see your next trick, Antman\n",
      "\n",
      "Spiderman, that was a great power!\n",
      "I can't wait to see your next trick, Spiderman\n",
      "\n",
      "Heman, that was a great power!\n",
      "I can't wait to see your next trick, Heman\n",
      "\n",
      "Batman, that was a great power!\n",
      "I can't wait to see your next trick, Batman\n",
      "\n",
      "Wonderwoman, that was a great power!\n",
      "I can't wait to see your next trick, Wonderwoman\n",
      "\n",
      "\u001b[33;41mI am out of the for loop now.\u001b[0m\n"
     ]
    }
   ],
   "source": [
    "cartoon = ['antman', 'spiderman', 'heman', 'batman', 'wonderwoman']\n",
    "\n",
    "for superhero in cartoon:\n",
    "    print(f\"{superhero.title()}, that was a great power!\")\n",
    "    print(f\"I can't wait to see your next trick, {superhero.title()}\\n\")\n",
    "\n",
    "\n",
    "# Setting up color and then clearing of that color setting at the end of the line.\n",
    "# 3n for text color and 4n for background color.\n",
    "print(\"\\033[33;41mI am out of the for loop now.\\033[0m\")"
   ]
  },
  {
   "cell_type": "markdown",
   "metadata": {},
   "source": [
    "---\n",
    "---\n"
   ]
  },
  {
   "cell_type": "markdown",
   "metadata": {},
   "source": [
    "### Python is indent sensitive. So make sure you do take care of the indent propertly. \n",
    "- Keep indent based on the block or out of block, based on your need.\n",
    "\n",
    "The `colon` at the end of a `for` statement tells Python to interpret the next line as the start of a loop."
   ]
  },
  {
   "cell_type": "markdown",
   "metadata": {},
   "source": [
    "---\n",
    "---"
   ]
  },
  {
   "cell_type": "markdown",
   "metadata": {},
   "source": [
    "#### Python range()\n",
    "- Python `range()` function makes it easy to generate a series of numbers."
   ]
  },
  {
   "cell_type": "code",
   "execution_count": 37,
   "metadata": {},
   "outputs": [
    {
     "name": "stdout",
     "output_type": "stream",
     "text": [
      "1\n",
      "2\n",
      "3\n",
      "4\n"
     ]
    }
   ],
   "source": [
    "# it exclude the last number of 5.\n",
    "for value in range(1,5):\n",
    "    print(value)"
   ]
  },
  {
   "cell_type": "code",
   "execution_count": 39,
   "metadata": {},
   "outputs": [
    {
     "name": "stdout",
     "output_type": "stream",
     "text": [
      "[1, 2, 3, 4, 5]\n"
     ]
    }
   ],
   "source": [
    "numbers = list(range(1,6)) #created a list.\n",
    "print(numbers)"
   ]
  },
  {
   "cell_type": "code",
   "execution_count": 41,
   "metadata": {},
   "outputs": [
    {
     "name": "stdout",
     "output_type": "stream",
     "text": [
      "[2, 4, 6, 8, 10]\n"
     ]
    }
   ],
   "source": [
    "even_numbers = list(range(2 , 11, 2))\n",
    "print (even_numbers)\n"
   ]
  },
  {
   "cell_type": "code",
   "execution_count": 43,
   "metadata": {},
   "outputs": [
    {
     "name": "stdout",
     "output_type": "stream",
     "text": [
      "[1, 4, 9, 16, 25, 36, 49, 64, 81, 100]\n"
     ]
    }
   ],
   "source": [
    "squares = []\n",
    "for value in range(1,11):\n",
    "    square = value ** 2\n",
    "    squares.append(square) #append functons.\n",
    "\n",
    "print(squares)"
   ]
  },
  {
   "cell_type": "code",
   "execution_count": 44,
   "metadata": {},
   "outputs": [
    {
     "name": "stdout",
     "output_type": "stream",
     "text": [
      "0\n",
      "18\n",
      "171\n"
     ]
    }
   ],
   "source": [
    "numbers = list(range(0,19))\n",
    "print(min(numbers))\n",
    "print(max(numbers))\n",
    "print(sum(numbers))"
   ]
  },
  {
   "cell_type": "code",
   "execution_count": 45,
   "metadata": {},
   "outputs": [
    {
     "name": "stdout",
     "output_type": "stream",
     "text": [
      "[1, 4, 9, 16, 25, 36, 49, 64, 81, 100]\n"
     ]
    }
   ],
   "source": [
    "squares = [value**2 for value in range(1,11)]\n",
    "print(squares)"
   ]
  },
  {
   "cell_type": "markdown",
   "metadata": {},
   "source": [
    "---\n",
    "---"
   ]
  },
  {
   "cell_type": "markdown",
   "metadata": {},
   "source": [
    "##### Slicing a list"
   ]
  },
  {
   "cell_type": "code",
   "execution_count": 63,
   "metadata": {},
   "outputs": [
    {
     "name": "stdout",
     "output_type": "stream",
     "text": [
      "['antman', 'spiderman', 'heman']\n",
      "['spiderman', 'heman', 'batman']\n",
      "['antman', 'spiderman', 'heman', 'batman']\n",
      "['heman', 'batman', 'wonderwoman']\n"
     ]
    }
   ],
   "source": [
    "cartoon = ['antman', 'spiderman', 'heman', 'batman', 'wonderwoman']\n",
    "print(cartoon[0:3])\n",
    "\n",
    "print(cartoon[1:4]) # last index number not included.\n",
    "\n",
    "print(cartoon[:4])\n",
    "\n",
    "print(cartoon[2:]) # From 2nd index till end."
   ]
  },
  {
   "cell_type": "code",
   "execution_count": 79,
   "metadata": {},
   "outputs": [
    {
     "name": "stdout",
     "output_type": "stream",
     "text": [
      "[1, 2, 3, 4, 5, 6, 7, 8, 9, 10]\n",
      "--------------------------------------------------\n",
      "[1, 2, 3]\n",
      "[2, 3, 4]\n",
      "[1, 2, 3, 4]\n",
      "[3, 4, 5, 6, 7, 8, 9, 10]\n",
      "[8, 9, 10]\n"
     ]
    }
   ],
   "source": [
    "numbers =list(range(1,11))\n",
    "\n",
    "print(numbers)\n",
    "print('-'*50)\n",
    "print(numbers[0:3])\n",
    "print(numbers[1:4])\n",
    "print(numbers[:4])\n",
    "print(numbers[2:])\n",
    "print(numbers[-3:])"
   ]
  },
  {
   "cell_type": "code",
   "execution_count": 80,
   "metadata": {},
   "outputs": [
    {
     "name": "stdout",
     "output_type": "stream",
     "text": [
      "['1', '2', '3', '4', '5', '6', '7', '8', '9', '10']\n",
      "--------------------------------------------------\n",
      "['1', '2', '3']\n",
      "['2', '3', '4']\n",
      "['1', '2', '3', '4']\n",
      "['3', '4', '5', '6', '7', '8', '9', '10']\n",
      "['8', '9', '10']\n",
      "['1', '2', '3', '4', '5', '6', '7', '8', '9', '10']\n"
     ]
    }
   ],
   "source": [
    "numbers = []\n",
    "for number in range(1,11):\n",
    "    numbers.append(str(number))\n",
    "\n",
    "print(numbers)\n",
    "print('-'*50)\n",
    "print(numbers[0:3])\n",
    "print(numbers[1:4])\n",
    "print(numbers[:4])\n",
    "print(numbers[2:])\n",
    "print(numbers[-3:])\n",
    "\n",
    "print(numbers[:])"
   ]
  },
  {
   "cell_type": "code",
   "execution_count": 60,
   "metadata": {},
   "outputs": [
    {
     "name": "stdout",
     "output_type": "stream",
     "text": [
      "123\n"
     ]
    }
   ],
   "source": [
    "xs = ['1', '2', '3']\n",
    "s = ''.join(xs)\n",
    "print(s)"
   ]
  },
  {
   "cell_type": "markdown",
   "metadata": {},
   "source": [
    "---\n",
    "---"
   ]
  },
  {
   "cell_type": "code",
   "execution_count": 84,
   "metadata": {},
   "outputs": [
    {
     "name": "stdout",
     "output_type": "stream",
     "text": [
      "['1', '2', '3', '4', '5', '6', '7', '8', '9', '10']\n",
      "['1', '2', '3', '4', '5', '6', '7', '8', '9', '10']\n",
      "4447906944\n",
      "4447898432\n",
      "['1', '2', '3', '4', '5', '6', '7', '8', '9', '10', '23']\n",
      "['1', '2', '3', '4', '5', '6', '7', '8', '9', '10', 'copyed_list']\n"
     ]
    }
   ],
   "source": [
    "numbers = []\n",
    "for number in range(1,11):\n",
    "    numbers.append(str(number))\n",
    "\n",
    "my_numbers = numbers[:]\n",
    "\n",
    "print(numbers)\n",
    "print(my_numbers)\n",
    "\n",
    "# Memory locations:\n",
    "print(id(numbers))\n",
    "print(id(my_numbers))\n",
    "\n",
    "numbers.append('23')\n",
    "my_numbers.append('copyed_list')\n",
    "\n",
    "print(numbers)\n",
    "print(my_numbers)"
   ]
  },
  {
   "cell_type": "code",
   "execution_count": null,
   "metadata": {},
   "outputs": [],
   "source": []
  }
 ],
 "metadata": {
  "kernelspec": {
   "display_name": "Python 3",
   "language": "python",
   "name": "python3"
  },
  "language_info": {
   "codemirror_mode": {
    "name": "ipython",
    "version": 3
   },
   "file_extension": ".py",
   "mimetype": "text/x-python",
   "name": "python",
   "nbconvert_exporter": "python",
   "pygments_lexer": "ipython3",
   "version": "3.9.6"
  }
 },
 "nbformat": 4,
 "nbformat_minor": 2
}
