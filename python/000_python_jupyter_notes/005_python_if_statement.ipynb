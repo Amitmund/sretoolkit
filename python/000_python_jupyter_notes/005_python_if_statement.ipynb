{
 "cells": [
  {
   "cell_type": "markdown",
   "metadata": {},
   "source": [
    "## If Statements"
   ]
  },
  {
   "cell_type": "code",
   "execution_count": 1,
   "metadata": {},
   "outputs": [
    {
     "name": "stdout",
     "output_type": "stream",
     "text": [
      "Antman\n",
      "Spiderman\n",
      "HEMAN\n",
      "Batman\n",
      "Wonderwoman\n"
     ]
    }
   ],
   "source": [
    "cartoon = ['antman', 'spiderman', 'heman', 'batman', 'wonderwoman']\n",
    "\n",
    "for toon in cartoon:\n",
    "    if toon == 'heman': # == for compare check.\n",
    "        print(toon.upper())\n",
    "    else:\n",
    "        print(toon.title())"
   ]
  },
  {
   "cell_type": "code",
   "execution_count": 2,
   "metadata": {},
   "outputs": [
    {
     "data": {
      "text/plain": [
       "True"
      ]
     },
     "execution_count": 2,
     "metadata": {},
     "output_type": "execute_result"
    }
   ],
   "source": [
    "toon = 'heman'\n",
    "toon == 'heman'"
   ]
  },
  {
   "cell_type": "code",
   "execution_count": 3,
   "metadata": {},
   "outputs": [
    {
     "data": {
      "text/plain": [
       "False"
      ]
     },
     "execution_count": 3,
     "metadata": {},
     "output_type": "execute_result"
    }
   ],
   "source": [
    "toon = 'antman'\n",
    "toon == 'heman'"
   ]
  },
  {
   "cell_type": "code",
   "execution_count": 4,
   "metadata": {},
   "outputs": [
    {
     "data": {
      "text/plain": [
       "True"
      ]
     },
     "execution_count": 4,
     "metadata": {},
     "output_type": "execute_result"
    }
   ],
   "source": [
    "toon = 'Heman'\n",
    "toon.lower() == 'heman'"
   ]
  },
  {
   "cell_type": "markdown",
   "metadata": {},
   "source": [
    "Few condition check:\n",
    "\n",
    "- `==`\n",
    "- `<`\n",
    "- `>`\n",
    "- `=>`\n",
    "- `<=`\n",
    "- `!`\n"
   ]
  },
  {
   "cell_type": "code",
   "execution_count": 7,
   "metadata": {},
   "outputs": [
    {
     "name": "stdout",
     "output_type": "stream",
     "text": [
      "You are still good to work.\n"
     ]
    }
   ],
   "source": [
    "exp = 20\n",
    "\n",
    "# and condition and or condition\n",
    "if (exp >= 1) and (exp <= 40):\n",
    "    print(\"You are still good to work.\")"
   ]
  },
  {
   "cell_type": "markdown",
   "metadata": {},
   "source": [
    "---\n",
    "---"
   ]
  },
  {
   "cell_type": "markdown",
   "metadata": {},
   "source": [
    "Checking the `and` and `or` condition:\n",
    "\n",
    "- Only `True` and `True` is True (within `and` condition check.)\n",
    "- Only `False` or `False` is False (within `or` condition check.)"
   ]
  },
  {
   "cell_type": "code",
   "execution_count": 14,
   "metadata": {},
   "outputs": [
    {
     "data": {
      "text/plain": [
       "True"
      ]
     },
     "execution_count": 14,
     "metadata": {},
     "output_type": "execute_result"
    }
   ],
   "source": [
    "True and True"
   ]
  },
  {
   "cell_type": "code",
   "execution_count": 10,
   "metadata": {},
   "outputs": [
    {
     "data": {
      "text/plain": [
       "False"
      ]
     },
     "execution_count": 10,
     "metadata": {},
     "output_type": "execute_result"
    }
   ],
   "source": [
    "True and False"
   ]
  },
  {
   "cell_type": "code",
   "execution_count": 11,
   "metadata": {},
   "outputs": [
    {
     "data": {
      "text/plain": [
       "False"
      ]
     },
     "execution_count": 11,
     "metadata": {},
     "output_type": "execute_result"
    }
   ],
   "source": [
    "False and True"
   ]
  },
  {
   "cell_type": "code",
   "execution_count": 12,
   "metadata": {},
   "outputs": [
    {
     "data": {
      "text/plain": [
       "False"
      ]
     },
     "execution_count": 12,
     "metadata": {},
     "output_type": "execute_result"
    }
   ],
   "source": [
    "False and False"
   ]
  },
  {
   "cell_type": "code",
   "execution_count": 15,
   "metadata": {},
   "outputs": [
    {
     "data": {
      "text/plain": [
       "True"
      ]
     },
     "execution_count": 15,
     "metadata": {},
     "output_type": "execute_result"
    }
   ],
   "source": [
    "True or True"
   ]
  },
  {
   "cell_type": "code",
   "execution_count": 16,
   "metadata": {},
   "outputs": [
    {
     "data": {
      "text/plain": [
       "True"
      ]
     },
     "execution_count": 16,
     "metadata": {},
     "output_type": "execute_result"
    }
   ],
   "source": [
    "True or False"
   ]
  },
  {
   "cell_type": "code",
   "execution_count": 17,
   "metadata": {},
   "outputs": [
    {
     "data": {
      "text/plain": [
       "True"
      ]
     },
     "execution_count": 17,
     "metadata": {},
     "output_type": "execute_result"
    }
   ],
   "source": [
    "False or True"
   ]
  },
  {
   "cell_type": "code",
   "execution_count": 19,
   "metadata": {},
   "outputs": [
    {
     "data": {
      "text/plain": [
       "False"
      ]
     },
     "execution_count": 19,
     "metadata": {},
     "output_type": "execute_result"
    }
   ],
   "source": [
    "False or False"
   ]
  },
  {
   "cell_type": "markdown",
   "metadata": {},
   "source": [
    "---\n",
    "---"
   ]
  },
  {
   "cell_type": "markdown",
   "metadata": {},
   "source": [
    "##### Checking if a value in a list:"
   ]
  },
  {
   "cell_type": "code",
   "execution_count": 36,
   "metadata": {},
   "outputs": [
    {
     "name": "stdout",
     "output_type": "stream",
     "text": [
      "\u001b[33mCan see the 'Heman' within the list.\u001b[0m\n",
      "\u001b[31m'Doremon' is not part of the list.\u001b[0m\n",
      "\u001b[31m'L' is not part of the list.\u001b[0m\n"
     ]
    }
   ],
   "source": [
    "cartoon = ['antman', 'spiderman', 'heman', 'batman', 'wonderwoman']\n",
    "\n",
    "checking_value = 'heman'\n",
    "if checking_value in cartoon:\n",
    "    print(f\"\\033[33mCan see the '{checking_value.title()}' within the list.\\033[0m\")\n",
    "\n",
    "\n",
    "checking_value = 'doremon'\n",
    "if 'doremon' in cartoon:\n",
    "    print(\"Can see the given value within the list.\")\n",
    "else:\n",
    "    print(f\"\\033[31m'{checking_value.title()}' is not part of the list.\\033[0m\")\n",
    "\n",
    "\n",
    "# not in condition check.\n",
    "checking_value = 'L'\n",
    "if 'doremon' not in cartoon:\n",
    "    print(f\"\\033[31m'{checking_value.title()}' is not part of the list.\\033[0m\")\n"
   ]
  },
  {
   "cell_type": "markdown",
   "metadata": {},
   "source": [
    "Boolean expression with:\n",
    "\n",
    "- True\n",
    "- False\n",
    "\n",
    "- You can also assign `bool` to `variable`."
   ]
  },
  {
   "cell_type": "code",
   "execution_count": 37,
   "metadata": {},
   "outputs": [],
   "source": [
    "game_active = True\n",
    "can_edit = False"
   ]
  },
  {
   "cell_type": "code",
   "execution_count": 39,
   "metadata": {},
   "outputs": [
    {
     "name": "stdout",
     "output_type": "stream",
     "text": [
      "You are old enough to vote!\n",
      "Go for your vote.\n"
     ]
    }
   ],
   "source": [
    "age = 19\n",
    "if age > 18:\n",
    "    print(\"You are old enough to vote!\")\n",
    "    print(\"Go for your vote.\")\n",
    "else:\n",
    "    print(\"Sorry, you are too yount to vote.\")\n",
    "    "
   ]
  },
  {
   "cell_type": "markdown",
   "metadata": {},
   "source": [
    "---\n",
    "---"
   ]
  },
  {
   "cell_type": "markdown",
   "metadata": {},
   "source": [
    "#### if-elif-else\n",
    "- You can have n number of elif"
   ]
  },
  {
   "cell_type": "code",
   "execution_count": 43,
   "metadata": {},
   "outputs": [
    {
     "name": "stdout",
     "output_type": "stream",
     "text": [
      "Fee is 1000 Rs per Month.\n"
     ]
    }
   ],
   "source": [
    "admission_class = 2\n",
    "\n",
    "if admission_class < 3:\n",
    "    print(\"Fee is 1000 Rs per Month.\")\n",
    "# You can have n number of elif\n",
    "elif admission_class < 7:\n",
    "    print(\"Fee is 2000 Rs per Month.\")\n",
    "else:\n",
    "    print(\"Fee is 3000 Rs per Month.\")"
   ]
  },
  {
   "cell_type": "markdown",
   "metadata": {},
   "source": [
    "- Empty list [] return false.\n",
    "- So, in `if` condition, the `if` block will not work.\n",
    "- it will go to `else` block."
   ]
  },
  {
   "cell_type": "code",
   "execution_count": 45,
   "metadata": {},
   "outputs": [
    {
     "name": "stdout",
     "output_type": "stream",
     "text": [
      "I am in else block.\n"
     ]
    }
   ],
   "source": [
    "my_list = []\n",
    "\n",
    "if my_list:\n",
    "    print(\"I am in if block\")\n",
    "else:\n",
    "    print(\"I am in else block.\")"
   ]
  }
 ],
 "metadata": {
  "kernelspec": {
   "display_name": "Python 3",
   "language": "python",
   "name": "python3"
  },
  "language_info": {
   "codemirror_mode": {
    "name": "ipython",
    "version": 3
   },
   "file_extension": ".py",
   "mimetype": "text/x-python",
   "name": "python",
   "nbconvert_exporter": "python",
   "pygments_lexer": "ipython3",
   "version": "3.9.6"
  }
 },
 "nbformat": 4,
 "nbformat_minor": 2
}
