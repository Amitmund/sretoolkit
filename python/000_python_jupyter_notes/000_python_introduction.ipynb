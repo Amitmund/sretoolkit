{
 "cells": [
  {
   "cell_type": "markdown",
   "metadata": {},
   "source": [
    "## Introduction"
   ]
  },
  {
   "cell_type": "code",
   "execution_count": 1,
   "metadata": {},
   "outputs": [
    {
     "name": "stdout",
     "output_type": "stream",
     "text": [
      "Hello Python\n"
     ]
    }
   ],
   "source": [
    "print('Hello Python')"
   ]
  },
  {
   "cell_type": "code",
   "execution_count": 2,
   "metadata": {},
   "outputs": [
    {
     "name": "stdout",
     "output_type": "stream",
     "text": [
      "Hello Python\n"
     ]
    }
   ],
   "source": [
    "print(\"Hello Python\")"
   ]
  },
  {
   "cell_type": "markdown",
   "metadata": {},
   "source": [
    "Double quotes (\") are often used for natural language communications and string interpolations. I like to use the \"double quotes\"."
   ]
  },
  {
   "cell_type": "code",
   "execution_count": 4,
   "metadata": {},
   "outputs": [
    {
     "name": "stdout",
     "output_type": "stream",
     "text": [
      "He said, \"I cannot handle this anymore\"\n",
      "He said, 'I cannot handle this anymore'\n"
     ]
    }
   ],
   "source": [
    "# Using single quotes\n",
    "string = 'He said, \"I cannot handle this anymore\"'\n",
    "print(string)  # Output: He said, \"I cannot handle this anymore\"\n",
    "\n",
    "# Using double quotes\n",
    "string = \"He said, 'I cannot handle this anymore'\"\n",
    "print(string)  # Output: He said, 'I cannot handle this anymore'"
   ]
  },
  {
   "cell_type": "markdown",
   "metadata": {},
   "source": [
    "---\n",
    "---"
   ]
  },
  {
   "cell_type": "markdown",
   "metadata": {},
   "source": [
    "## Veriable"
   ]
  },
  {
   "cell_type": "code",
   "execution_count": 5,
   "metadata": {},
   "outputs": [
    {
     "name": "stdout",
     "output_type": "stream",
     "text": [
      "Hello Python.\n"
     ]
    }
   ],
   "source": [
    "message = \"Hello Python.\"\n",
    "print(message)"
   ]
  },
  {
   "cell_type": "markdown",
   "metadata": {},
   "source": [
    "- You don't have to use quote when you are using variable.\n",
    "- Its good to use veriable, because when you need to change in the string, you just have to update at the variable and no need to change with in your code location.\n",
    "- Variables names can contain only, `letters`, `numbers` and `underscores`. They can start with only `letters` and `underscores` but not with `numbers`.\n",
    "- Make sure your variable name, have a meaningful unerstanding.\n",
    "- Don't use python `keywords` as variables.\n",
    "- Make sure you use the `correct variable name` in python, else you will get `NameError`. (`NameError` is a python error type.)"
   ]
  },
  {
   "cell_type": "markdown",
   "metadata": {},
   "source": [
    "##### Following is an example of python's \"NameError\""
   ]
  },
  {
   "cell_type": "code",
   "execution_count": 6,
   "metadata": {},
   "outputs": [
    {
     "ename": "NameError",
     "evalue": "name 'mesage' is not defined",
     "output_type": "error",
     "traceback": [
      "\u001b[0;31m---------------------------------------------------------------------------\u001b[0m",
      "\u001b[0;31mNameError\u001b[0m                                 Traceback (most recent call last)",
      "Cell \u001b[0;32mIn[6], line 2\u001b[0m\n\u001b[1;32m      1\u001b[0m message \u001b[38;5;241m=\u001b[39m \u001b[38;5;124m\"\u001b[39m\u001b[38;5;124mHello Python.\u001b[39m\u001b[38;5;124m\"\u001b[39m\n\u001b[0;32m----> 2\u001b[0m \u001b[38;5;28mprint\u001b[39m(\u001b[43mmesage\u001b[49m)\n",
      "\u001b[0;31mNameError\u001b[0m: name 'mesage' is not defined"
     ]
    }
   ],
   "source": [
    "message = \"Hello Python.\"\n",
    "print(mesage)"
   ]
  },
  {
   "cell_type": "markdown",
   "metadata": {},
   "source": []
  },
  {
   "cell_type": "markdown",
   "metadata": {},
   "source": [
    "---\n",
    "---"
   ]
  },
  {
   "cell_type": "markdown",
   "metadata": {},
   "source": [
    "## What is Methods?"
   ]
  },
  {
   "cell_type": "markdown",
   "metadata": {},
   "source": [
    "- you would understand `Methods` in more details in upcomming notes.\n",
    "- As of now think of, its a `code`, to do a `special work` on a `given data`.\n",
    "\n",
    "- Think of, you want all the text of the `string` to be changed to `all capitals`. So you can write a `code` to do so...\n",
    "- And python have a lot of such code, and we call these as `methods`.\n",
    "\n",
    "- Note: These methods, works on a specific `data type`, which we will learn soon."
   ]
  },
  {
   "cell_type": "code",
   "execution_count": 7,
   "metadata": {},
   "outputs": [
    {
     "name": "stdout",
     "output_type": "stream",
     "text": [
      "I AM ALL CAPS.\n"
     ]
    }
   ],
   "source": [
    "message = \"I am all caps.\"\n",
    "print(message.upper())"
   ]
  },
  {
   "cell_type": "markdown",
   "metadata": {},
   "source": [
    "At the above example, This `.upper()` is a method. "
   ]
  },
  {
   "cell_type": "markdown",
   "metadata": {},
   "source": [
    "##### Lets see `few more strings method` and how we are using it..."
   ]
  },
  {
   "cell_type": "code",
   "execution_count": 16,
   "metadata": {},
   "outputs": [
    {
     "name": "stdout",
     "output_type": "stream",
     "text": [
      "--------------------------------------------------------------------------------\n",
      "I am the a string to be tested with string methods.\n",
      "I Am The A String To Be Tested With String Methods.\n",
      "i am the a string to be tested with string methods.\n",
      "5\n",
      "--------------------------------------------------------------------------------\n",
      "    Hello Amit    \n",
      "    Hello Amit\n",
      "Hello Amit    \n",
      "Hello Amit\n",
      "--------------------------------------------------------------------------------\n",
      "sretoolkit.com\n",
      "amitmund\n",
      "--------------------------------------------------------------------------------\n"
     ]
    }
   ],
   "source": [
    "message = \"I am the a string to be tested with string methods.\"\n",
    "\n",
    "#\n",
    "print('-'*80)\n",
    "\n",
    "print(message.capitalize())\n",
    "print(message.title())\n",
    "print(message.lower())\n",
    "\n",
    "print(message.count('e'))\n",
    "\n",
    "\n",
    "# four space before and after in the following string for the example.\n",
    "print('-'*80)\n",
    "\n",
    "my_string = '    Hello Amit    '\n",
    "\n",
    "print(my_string) # It will also print the white space from both side.\n",
    "print(my_string.rstrip()) # It will remote white space from right side.\n",
    "print(my_string.lstrip()) # It will remove white space from left side.\n",
    "print(my_string.strip()) # It will remove white space from both the side.\n",
    "\n",
    "#\n",
    "print('-'*80)\n",
    "\n",
    "my_url = 'https://sretoolkit.com'\n",
    "print(my_url.removeprefix('https://'))\n",
    "\n",
    "my_file = 'amitmund.pdf'\n",
    "print(my_file.removesuffix('.pdf'))\n",
    "\n",
    "#\n",
    "print('-'*80)\n",
    "\n"
   ]
  },
  {
   "cell_type": "markdown",
   "metadata": {},
   "source": [
    "- In the above example, we can see, how to use the `method` with `parameter`.\n",
    "- It will let you know, how many times, \"e\", in the given message, where we are using the cound() method."
   ]
  },
  {
   "cell_type": "code",
   "execution_count": 5,
   "metadata": {},
   "outputs": [
    {
     "name": "stdout",
     "output_type": "stream",
     "text": [
      "Amit Mund\n",
      "My first name is: Amit and last name is: Mund\n"
     ]
    }
   ],
   "source": [
    "first_name = \"Amit\"\n",
    "last_name = \"Mund\"\n",
    "fullname = f\"{first_name} {last_name}\"\n",
    "print(fullname)\n",
    "\n",
    "print (f\"My first name is: {first_name} and last name is: {last_name}\")"
   ]
  },
  {
   "cell_type": "markdown",
   "metadata": {},
   "source": [
    "- print with formated options. (f\" your text {your_variable} your text {your_var2}\")"
   ]
  },
  {
   "cell_type": "code",
   "execution_count": 6,
   "metadata": {},
   "outputs": [
    {
     "name": "stdout",
     "output_type": "stream",
     "text": [
      "Python\n",
      "\tPython\n",
      "Python\n",
      "\tPython\n"
     ]
    }
   ],
   "source": [
    "print('Python')\n",
    "print('\\tPython')\n",
    "print(\"Python\")\n",
    "print(\"\\tPython\")"
   ]
  },
  {
   "cell_type": "code",
   "execution_count": 7,
   "metadata": {},
   "outputs": [
    {
     "name": "stdout",
     "output_type": "stream",
     "text": [
      "Languages:\\Python\n",
      "C\n",
      "JavaScript\n"
     ]
    }
   ],
   "source": [
    "print (\"Languages:\\Python\\nC\\nJavaScript\")"
   ]
  },
  {
   "cell_type": "code",
   "execution_count": 8,
   "metadata": {},
   "outputs": [
    {
     "name": "stdout",
     "output_type": "stream",
     "text": [
      "Languages: \n",
      "\tPython\n",
      "\tC\n",
      "\tJavaScript\n"
     ]
    }
   ],
   "source": [
    "print( \"Languages: \\n\\tPython\\n\\tC\\n\\tJavaScript\")"
   ]
  },
  {
   "cell_type": "markdown",
   "metadata": {},
   "source": [
    "---\n",
    "---"
   ]
  },
  {
   "cell_type": "markdown",
   "metadata": {},
   "source": [
    "##### Example of SyntaxError Example."
   ]
  },
  {
   "cell_type": "code",
   "execution_count": 18,
   "metadata": {},
   "outputs": [
    {
     "ename": "SyntaxError",
     "evalue": "invalid syntax (3507509306.py, line 1)",
     "output_type": "error",
     "traceback": [
      "\u001b[0;36m  Cell \u001b[0;32mIn[18], line 1\u001b[0;36m\u001b[0m\n\u001b[0;31m    message = 'I'm loving this.'\u001b[0m\n\u001b[0m                 ^\u001b[0m\n\u001b[0;31mSyntaxError\u001b[0m\u001b[0;31m:\u001b[0m invalid syntax\n"
     ]
    }
   ],
   "source": [
    "message = 'I'm loving this.'\n",
    "print(message)"
   ]
  },
  {
   "cell_type": "code",
   "execution_count": 19,
   "metadata": {},
   "outputs": [
    {
     "name": "stdout",
     "output_type": "stream",
     "text": [
      "I'm loving this.\n"
     ]
    }
   ],
   "source": [
    "message = \"I'm loving this.\"\n",
    "print(message)"
   ]
  },
  {
   "cell_type": "markdown",
   "metadata": {},
   "source": [
    "---\n",
    "---"
   ]
  },
  {
   "cell_type": "markdown",
   "metadata": {},
   "source": [
    "## Integers"
   ]
  },
  {
   "cell_type": "code",
   "execution_count": 2,
   "metadata": {},
   "outputs": [
    {
     "name": "stdout",
     "output_type": "stream",
     "text": [
      "3\n",
      "2\n",
      "6\n",
      "1.5\n",
      "1\n",
      "9\n",
      "14\n",
      "20\n"
     ]
    }
   ],
   "source": [
    "print(1+2)\n",
    "print(3-1)\n",
    "print(2*3)\n",
    "print(3/2)\n",
    "print(3//2) ## roundup to floor value. (which is 1)\n",
    "print(3**2)\n",
    "\n",
    "print(2+3*4)\n",
    "print((2+3)*4)"
   ]
  },
  {
   "cell_type": "markdown",
   "metadata": {},
   "source": [
    "---\n",
    "---"
   ]
  },
  {
   "cell_type": "markdown",
   "metadata": {},
   "source": [
    "## Floats"
   ]
  },
  {
   "cell_type": "markdown",
   "metadata": {},
   "source": []
  }
 ],
 "metadata": {
  "kernelspec": {
   "display_name": "Python 3",
   "language": "python",
   "name": "python3"
  },
  "language_info": {
   "codemirror_mode": {
    "name": "ipython",
    "version": 3
   },
   "file_extension": ".py",
   "mimetype": "text/x-python",
   "name": "python",
   "nbconvert_exporter": "python",
   "pygments_lexer": "ipython3",
   "version": "3.9.6"
  }
 },
 "nbformat": 4,
 "nbformat_minor": 2
}
