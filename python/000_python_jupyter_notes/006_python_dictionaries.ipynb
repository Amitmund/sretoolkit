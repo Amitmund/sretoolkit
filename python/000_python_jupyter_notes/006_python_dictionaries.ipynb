{
 "cells": [
  {
   "cell_type": "markdown",
   "metadata": {},
   "source": [
    "## Python Dictionary"
   ]
  },
  {
   "cell_type": "markdown",
   "metadata": {},
   "source": [
    "Dictionary `{}`, is the a `'key':'value'` pairs data type object. \n",
    "Each key is connected to a value. \n",
    "\n",
    "var['key] --> This will return the value.\n",
    "\n",
    "The simplest dictionary has exactly one key-value pair."
   ]
  },
  {
   "cell_type": "code",
   "execution_count": 2,
   "metadata": {},
   "outputs": [
    {
     "name": "stdout",
     "output_type": "stream",
     "text": [
      "Ram\n",
      "7\n"
     ]
    }
   ],
   "source": [
    "student1 = {'name': 'Ram', 'class': 7}\n",
    "print(student1['name'])\n",
    "print(student1['class'])"
   ]
  },
  {
   "cell_type": "code",
   "execution_count": 5,
   "metadata": {},
   "outputs": [
    {
     "name": "stdout",
     "output_type": "stream",
     "text": [
      "The student is in class 7.\n"
     ]
    }
   ],
   "source": [
    "student1 = {'name': 'Ram', 'class': 7}\n",
    "class_number = student1['class'] \n",
    "\n",
    "print(f\"The student is in class {student1['class']}.\")"
   ]
  },
  {
   "cell_type": "markdown",
   "metadata": {},
   "source": [
    "#### Adding new key value"
   ]
  },
  {
   "cell_type": "code",
   "execution_count": 7,
   "metadata": {},
   "outputs": [
    {
     "name": "stdout",
     "output_type": "stream",
     "text": [
      "{'name': 'Ram', 'class': 7, 'section': 'C', 'Roll_number': 27}\n"
     ]
    }
   ],
   "source": [
    "student1 = {'name': 'Ram', 'class': 7}\n",
    "\n",
    "student1['section'] = 'C'\n",
    "student1['Roll_number'] = 27\n",
    "\n",
    "print(student1)"
   ]
  },
  {
   "cell_type": "markdown",
   "metadata": {},
   "source": [
    "#### Starting with empty dictionary"
   ]
  },
  {
   "cell_type": "code",
   "execution_count": 8,
   "metadata": {},
   "outputs": [
    {
     "name": "stdout",
     "output_type": "stream",
     "text": [
      "{'name': 'Ram', 'class': 7}\n"
     ]
    }
   ],
   "source": [
    "student1 = {}\n",
    "\n",
    "student1['name'] = 'Ram'\n",
    "student1['class'] = 7\n",
    "\n",
    "print(student1)"
   ]
  },
  {
   "cell_type": "markdown",
   "metadata": {},
   "source": [
    "#### Modifying the value in Dictionary"
   ]
  },
  {
   "cell_type": "code",
   "execution_count": 2,
   "metadata": {},
   "outputs": [
    {
     "name": "stdout",
     "output_type": "stream",
     "text": [
      "The Student Class is 7.\n",
      "The Student Class is 8.\n"
     ]
    }
   ],
   "source": [
    "student1 = {'name': 'Ram', 'class': 7}\n",
    "print(f\"The Student Class is {student1['class']}.\")\n",
    "\n",
    "student1['class'] = 8\n",
    "print(f\"The Student Class is {student1['class']}.\")"
   ]
  },
  {
   "cell_type": "markdown",
   "metadata": {},
   "source": [
    "#### Removing Key-Value Pairs"
   ]
  },
  {
   "cell_type": "code",
   "execution_count": 3,
   "metadata": {},
   "outputs": [
    {
     "name": "stdout",
     "output_type": "stream",
     "text": [
      "{'name': 'Ram', 'class': 7}\n",
      "{'name': 'Ram'}\n"
     ]
    }
   ],
   "source": [
    "student1 = {'name': 'Ram', 'class': 7}\n",
    "print(student1)\n",
    "\n",
    "del student1['class']\n",
    "print(student1)"
   ]
  },
  {
   "cell_type": "code",
   "execution_count": null,
   "metadata": {},
   "outputs": [],
   "source": []
  }
 ],
 "metadata": {
  "kernelspec": {
   "display_name": "Python 3",
   "language": "python",
   "name": "python3"
  },
  "language_info": {
   "codemirror_mode": {
    "name": "ipython",
    "version": 3
   },
   "file_extension": ".py",
   "mimetype": "text/x-python",
   "name": "python",
   "nbconvert_exporter": "python",
   "pygments_lexer": "ipython3",
   "version": "3.9.6"
  }
 },
 "nbformat": 4,
 "nbformat_minor": 2
}
