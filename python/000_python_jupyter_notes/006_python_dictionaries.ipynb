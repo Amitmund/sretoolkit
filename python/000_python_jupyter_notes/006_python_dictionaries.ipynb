{
 "cells": [
  {
   "cell_type": "markdown",
   "metadata": {},
   "source": [
    "## Python Dictionary"
   ]
  },
  {
   "cell_type": "markdown",
   "metadata": {},
   "source": [
    "Dictionary `{}`, is the a `'key':'value'` pairs data type object. \n",
    "Each key is connected to a value. \n",
    "\n",
    "var['key] --> This will return the value.\n",
    "\n",
    "The simplest dictionary has exactly one key-value pair."
   ]
  },
  {
   "cell_type": "code",
   "execution_count": 2,
   "metadata": {},
   "outputs": [
    {
     "name": "stdout",
     "output_type": "stream",
     "text": [
      "Ram\n",
      "7\n"
     ]
    }
   ],
   "source": [
    "student1 = {'name': 'Ram', 'class': 7}\n",
    "print(student1['name'])\n",
    "print(student1['class'])"
   ]
  },
  {
   "cell_type": "code",
   "execution_count": 5,
   "metadata": {},
   "outputs": [
    {
     "name": "stdout",
     "output_type": "stream",
     "text": [
      "The student is in class 7.\n"
     ]
    }
   ],
   "source": [
    "student1 = {'name': 'Ram', 'class': 7}\n",
    "class_number = student1['class'] \n",
    "\n",
    "print(f\"The student is in class {student1['class']}.\")"
   ]
  },
  {
   "cell_type": "markdown",
   "metadata": {},
   "source": [
    "#### Adding new key value"
   ]
  },
  {
   "cell_type": "code",
   "execution_count": 7,
   "metadata": {},
   "outputs": [
    {
     "name": "stdout",
     "output_type": "stream",
     "text": [
      "{'name': 'Ram', 'class': 7, 'section': 'C', 'Roll_number': 27}\n"
     ]
    }
   ],
   "source": [
    "student1 = {'name': 'Ram', 'class': 7}\n",
    "\n",
    "student1['section'] = 'C'\n",
    "student1['Roll_number'] = 27\n",
    "\n",
    "print(student1)"
   ]
  },
  {
   "cell_type": "markdown",
   "metadata": {},
   "source": [
    "#### Starting with empty dictionary"
   ]
  },
  {
   "cell_type": "code",
   "execution_count": 8,
   "metadata": {},
   "outputs": [
    {
     "name": "stdout",
     "output_type": "stream",
     "text": [
      "{'name': 'Ram', 'class': 7}\n"
     ]
    }
   ],
   "source": [
    "student1 = {}\n",
    "\n",
    "student1['name'] = 'Ram'\n",
    "student1['class'] = 7\n",
    "\n",
    "print(student1)"
   ]
  },
  {
   "cell_type": "markdown",
   "metadata": {},
   "source": [
    "#### Modifying the value in Dictionary"
   ]
  },
  {
   "cell_type": "code",
   "execution_count": 2,
   "metadata": {},
   "outputs": [
    {
     "name": "stdout",
     "output_type": "stream",
     "text": [
      "The Student Class is 7.\n",
      "The Student Class is 8.\n"
     ]
    }
   ],
   "source": [
    "student1 = {'name': 'Ram', 'class': 7}\n",
    "print(f\"The Student Class is {student1['class']}.\")\n",
    "\n",
    "student1['class'] = 8\n",
    "print(f\"The Student Class is {student1['class']}.\")"
   ]
  },
  {
   "cell_type": "markdown",
   "metadata": {},
   "source": [
    "#### Removing Key-Value Pairs"
   ]
  },
  {
   "cell_type": "code",
   "execution_count": 3,
   "metadata": {},
   "outputs": [
    {
     "name": "stdout",
     "output_type": "stream",
     "text": [
      "{'name': 'Ram', 'class': 7}\n",
      "{'name': 'Ram'}\n"
     ]
    }
   ],
   "source": [
    "student1 = {'name': 'Ram', 'class': 7}\n",
    "print(student1)\n",
    "\n",
    "del student1['class']\n",
    "print(student1)"
   ]
  },
  {
   "cell_type": "markdown",
   "metadata": {},
   "source": [
    "In the previous, different key value are for a student.\n",
    "- We can also use the dictionary for getting data/poll from different people."
   ]
  },
  {
   "cell_type": "code",
   "execution_count": 11,
   "metadata": {},
   "outputs": [
    {
     "name": "stdout",
     "output_type": "stream",
     "text": [
      "{'Ram': 'Python', 'Hari': 'Golang', 'Mohan': 'Rust', 'Gopal': 'c', 'Sita': 'Python'}\n",
      "Gopal's preferred language is C.\n"
     ]
    }
   ],
   "source": [
    "# separeted by `:` and a `,` after a single set of key-value.\n",
    "preferred_languages = {\n",
    "    'Ram' : 'Python',\n",
    "    'Hari' : 'Golang',\n",
    "    'Mohan' : 'Rust',\n",
    "    'Gopal' : 'c',\n",
    "    'Sita' : 'Python',\n",
    "\n",
    "}\n",
    "\n",
    "print(preferred_languages)\n",
    "\n",
    "language = preferred_languages['Gopal'].title()\n",
    "\n",
    "print(f\"Gopal's preferred language is {language}.\")"
   ]
  },
  {
   "cell_type": "markdown",
   "metadata": {},
   "source": [
    "> Note: When we have key, using key to get value is good. But when we don't have the key that we are trying to access, we will get error.\n",
    "> For this case, we should be using `get()` so that even if we don't have the key, it will give error."
   ]
  },
  {
   "cell_type": "code",
   "execution_count": 17,
   "metadata": {},
   "outputs": [
    {
     "name": "stdout",
     "output_type": "stream",
     "text": [
      "Gopal's preferred language is C.\n"
     ]
    },
    {
     "ename": "KeyError",
     "evalue": "'Shyam'",
     "output_type": "error",
     "traceback": [
      "\u001b[0;31m---------------------------------------------------------------------------\u001b[0m",
      "\u001b[0;31mKeyError\u001b[0m                                  Traceback (most recent call last)",
      "Cell \u001b[0;32mIn[17], line 14\u001b[0m\n\u001b[1;32m     11\u001b[0m \u001b[38;5;28mprint\u001b[39m(\u001b[38;5;124mf\u001b[39m\u001b[38;5;124m\"\u001b[39m\u001b[38;5;124mGopal\u001b[39m\u001b[38;5;124m'\u001b[39m\u001b[38;5;124ms preferred language is \u001b[39m\u001b[38;5;132;01m{\u001b[39;00mpreferred_languages[\u001b[38;5;124m'\u001b[39m\u001b[38;5;124mGopal\u001b[39m\u001b[38;5;124m'\u001b[39m]\u001b[38;5;241m.\u001b[39mtitle()\u001b[38;5;132;01m}\u001b[39;00m\u001b[38;5;124m.\u001b[39m\u001b[38;5;124m\"\u001b[39m)\n\u001b[1;32m     13\u001b[0m \u001b[38;5;66;03m# We will get `KeyError`, as we don't have the key called `Shyam`\u001b[39;00m\n\u001b[0;32m---> 14\u001b[0m \u001b[38;5;28mprint\u001b[39m(\u001b[38;5;124mf\u001b[39m\u001b[38;5;124m\"\u001b[39m\u001b[38;5;124mGopal\u001b[39m\u001b[38;5;124m'\u001b[39m\u001b[38;5;124ms preferred language is \u001b[39m\u001b[38;5;132;01m{\u001b[39;00mpreferred_languages[\u001b[38;5;124m'\u001b[39m\u001b[38;5;124mShyam\u001b[39m\u001b[38;5;124m'\u001b[39m]\u001b[38;5;241m.\u001b[39mtitle()\u001b[38;5;132;01m}\u001b[39;00m\u001b[38;5;124m.\u001b[39m\u001b[38;5;124m\"\u001b[39m)\n",
      "\u001b[0;31mKeyError\u001b[0m: 'Shyam'"
     ]
    }
   ],
   "source": [
    "preferred_languages = {\n",
    "    'Ram' : 'Python',\n",
    "    'Hari' : 'Golang',\n",
    "    'Mohan' : 'Rust',\n",
    "    'Gopal' : 'c',\n",
    "    'Sita' : 'Python',\n",
    "\n",
    "}\n",
    "\n",
    "\n",
    "print(f\"Gopal's preferred language is {preferred_languages['Gopal'].title()}.\")\n",
    "\n",
    "# We will get `KeyError`, as we don't have the key called `Shyam`\n",
    "print(f\"Gopal's preferred language is {preferred_languages['Shyam'].title()}.\")"
   ]
  },
  {
   "cell_type": "markdown",
   "metadata": {},
   "source": [
    "#### Using get()"
   ]
  },
  {
   "cell_type": "code",
   "execution_count": 21,
   "metadata": {},
   "outputs": [
    {
     "name": "stdout",
     "output_type": "stream",
     "text": [
      "Python\n",
      "Did not found the given `key`.\n"
     ]
    }
   ],
   "source": [
    "preferred_languages = {\n",
    "    'Ram' : 'Python',\n",
    "    'Hari' : 'Golang',\n",
    "    'Mohan' : 'Rust',\n",
    "    'Gopal' : 'c',\n",
    "    'Sita' : 'Python',\n",
    "\n",
    "}\n",
    "\n",
    "language = preferred_languages.get('Sita','Did not found the given key.')\n",
    "print(language)\n",
    "\n",
    "\n",
    "language = preferred_languages.get('Shyam','Did not found the given `key`.')\n",
    "print(language)"
   ]
  },
  {
   "cell_type": "code",
   "execution_count": null,
   "metadata": {},
   "outputs": [],
   "source": []
  },
  {
   "cell_type": "code",
   "execution_count": null,
   "metadata": {},
   "outputs": [],
   "source": []
  }
 ],
 "metadata": {
  "kernelspec": {
   "display_name": "Python 3",
   "language": "python",
   "name": "python3"
  },
  "language_info": {
   "codemirror_mode": {
    "name": "ipython",
    "version": 3
   },
   "file_extension": ".py",
   "mimetype": "text/x-python",
   "name": "python",
   "nbconvert_exporter": "python",
   "pygments_lexer": "ipython3",
   "version": "3.9.6"
  }
 },
 "nbformat": 4,
 "nbformat_minor": 2
}
