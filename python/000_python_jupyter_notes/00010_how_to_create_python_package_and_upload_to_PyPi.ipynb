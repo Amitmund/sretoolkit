{
 "cells": [
  {
   "cell_type": "markdown",
   "metadata": {},
   "source": [
    "# How to create python package and upload to PyPi\n",
    "\n",
    "- https://www.youtube.com/watch?v=h6oa_FwzFwU"
   ]
  },
  {
   "cell_type": "markdown",
   "metadata": {},
   "source": [
    "## Notes on details steps\n",
    "- Create a top level directory for the project\n",
    "    - Example: amitmund_test_project\n",
    "\n",
    "- pip install --upgrade pip\n",
    "\n",
    "\n",
    "- Create an virtual enviroment.\n",
    "    - Example: `python -m venv venv`\n",
    "    - Activate the virtual enviroment.\n",
    "    - Example: `source venv/bin/activate` (on Linux/Mac) or ` venv\\Scripts\\activate` (on Windows)\n",
    "\n",
    "\n"
   ]
  },
  {
   "cell_type": "markdown",
   "metadata": {},
   "source": [
    "## BLACKBOX AI quick note:\n",
    "- Create a top level directory for the project\n",
    "- Create a `src` directory for the source code\n",
    "- Create a `tests` directory for the tests\n",
    "- Create a `requirements.txt` file to list the dependencies\n",
    "- Create a `README.md` file to describe the project\n",
    "- Create a `setup.py` file to define the project structure and dependencies\n",
    "- Create a `main.py` file to contain the main application code\n",
    "- Create a `tests/test_main.py` file to contain the tests for the main application code\n",
    "- Create a `tests/test_utils.py` file to contain the tests for the utility functions\n",
    "- Create a `utils.py` file to contain the utility functions\n"
   ]
  }
 ],
 "metadata": {
  "language_info": {
   "name": "python"
  }
 },
 "nbformat": 4,
 "nbformat_minor": 2
}
