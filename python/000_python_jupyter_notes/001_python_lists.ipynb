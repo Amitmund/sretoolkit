{
 "cells": [
  {
   "cell_type": "markdown",
   "metadata": {},
   "source": [
    "## Lists\n",
    "- `list` is a data type in python\n",
    "- The data of the `list` is created within `[]`\n",
    "- A `list` is a collection of items in a particular order.\n",
    "- A `list` data can be modified."
   ]
  },
  {
   "cell_type": "code",
   "execution_count": 2,
   "metadata": {},
   "outputs": [
    {
     "name": "stdout",
     "output_type": "stream",
     "text": [
      "['spiderman', 'heman', 'batman', 'wonderwoman']\n"
     ]
    }
   ],
   "source": [
    "cartoon = ['spiderman', 'heman', 'batman', 'wonderwoman']\n",
    "print (cartoon)"
   ]
  },
  {
   "cell_type": "markdown",
   "metadata": {},
   "source": [
    "Index Positions Start at `0`, Not `1`."
   ]
  },
  {
   "cell_type": "code",
   "execution_count": 9,
   "metadata": {},
   "outputs": [
    {
     "name": "stdout",
     "output_type": "stream",
     "text": [
      "Spiderman\n",
      "First cartoon in this list is spiderman.\n",
      "First cartoon in this list is Spiderman.\n"
     ]
    }
   ],
   "source": [
    "cartoon = ['spiderman', 'heman', 'batman', 'wonderwoman']\n",
    "\n",
    "print(cartoon[0].title())\n",
    "\n",
    "print(f\"First cartoon in this list is {cartoon[0]}.\")\n",
    "\n",
    "print(f\"First cartoon in this list is {cartoon[0].title()}.\")"
   ]
  },
  {
   "cell_type": "code",
   "execution_count": 12,
   "metadata": {},
   "outputs": [
    {
     "name": "stdout",
     "output_type": "stream",
     "text": [
      "spiderman\n",
      "heman\n",
      "batman\n",
      "wonderwoman\n"
     ]
    },
    {
     "ename": "IndexError",
     "evalue": "list index out of range",
     "output_type": "error",
     "traceback": [
      "\u001b[0;31m---------------------------------------------------------------------------\u001b[0m",
      "\u001b[0;31mIndexError\u001b[0m                                Traceback (most recent call last)",
      "Cell \u001b[0;32mIn[12], line 7\u001b[0m\n\u001b[1;32m      5\u001b[0m \u001b[38;5;28mprint\u001b[39m(cartoon[\u001b[38;5;241m2\u001b[39m])\n\u001b[1;32m      6\u001b[0m \u001b[38;5;28mprint\u001b[39m(cartoon[\u001b[38;5;241m3\u001b[39m])\n\u001b[0;32m----> 7\u001b[0m \u001b[38;5;28mprint\u001b[39m(\u001b[43mcartoon\u001b[49m\u001b[43m[\u001b[49m\u001b[38;5;241;43m4\u001b[39;49m\u001b[43m]\u001b[49m)\n",
      "\u001b[0;31mIndexError\u001b[0m: list index out of range"
     ]
    }
   ],
   "source": [
    "cartoon = ['spiderman', 'heman', 'batman', 'wonderwoman']\n",
    "\n",
    "print(cartoon[0])\n",
    "print(cartoon[1])\n",
    "print(cartoon[2])\n",
    "print(cartoon[3])\n",
    "print(cartoon[4]) # <-- This is IndexError\n"
   ]
  },
  {
   "cell_type": "code",
   "execution_count": 14,
   "metadata": {},
   "outputs": [
    {
     "name": "stdout",
     "output_type": "stream",
     "text": [
      "spiderman\n",
      "heman\n",
      "batman\n",
      "wonderwoman\n"
     ]
    }
   ],
   "source": [
    "cartoon = ['spiderman', 'heman', 'batman', 'wonderwoman']\n",
    "\n",
    "print(cartoon[-4])\n",
    "print(cartoon[-3])\n",
    "print(cartoon[-2])\n",
    "print(cartoon[-1]) # <-- -1 is the start of the last index.\n"
   ]
  },
  {
   "cell_type": "markdown",
   "metadata": {},
   "source": [
    "---\n",
    "---"
   ]
  },
  {
   "cell_type": "code",
   "execution_count": null,
   "metadata": {},
   "outputs": [],
   "source": []
  }
 ],
 "metadata": {
  "kernelspec": {
   "display_name": "Python 3",
   "language": "python",
   "name": "python3"
  },
  "language_info": {
   "codemirror_mode": {
    "name": "ipython",
    "version": 3
   },
   "file_extension": ".py",
   "mimetype": "text/x-python",
   "name": "python",
   "nbconvert_exporter": "python",
   "pygments_lexer": "ipython3",
   "version": "3.9.6"
  }
 },
 "nbformat": 4,
 "nbformat_minor": 2
}
