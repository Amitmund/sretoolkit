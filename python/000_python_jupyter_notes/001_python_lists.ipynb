{
 "cells": [
  {
   "cell_type": "markdown",
   "metadata": {},
   "source": [
    "## Lists\n",
    "- `list` is a data type in python\n",
    "- The data of the `list` is created within `[]`\n",
    "- A `list` is a collection of items in a particular order.\n",
    "- A `list` data can be modified."
   ]
  },
  {
   "cell_type": "code",
   "execution_count": 2,
   "metadata": {},
   "outputs": [
    {
     "name": "stdout",
     "output_type": "stream",
     "text": [
      "['spiderman', 'heman', 'batman', 'wonderwoman']\n"
     ]
    }
   ],
   "source": [
    "cartoon = ['spiderman', 'heman', 'batman', 'wonderwoman']\n",
    "print (cartoon)"
   ]
  },
  {
   "cell_type": "markdown",
   "metadata": {},
   "source": [
    "Index Positions Start at `0`, Not `1`."
   ]
  },
  {
   "cell_type": "code",
   "execution_count": 9,
   "metadata": {},
   "outputs": [
    {
     "name": "stdout",
     "output_type": "stream",
     "text": [
      "Spiderman\n",
      "First cartoon in this list is spiderman.\n",
      "First cartoon in this list is Spiderman.\n"
     ]
    }
   ],
   "source": [
    "cartoon = ['spiderman', 'heman', 'batman', 'wonderwoman']\n",
    "\n",
    "print(cartoon[0].title())\n",
    "\n",
    "print(f\"First cartoon in this list is {cartoon[0]}.\")\n",
    "\n",
    "print(f\"First cartoon in this list is {cartoon[0].title()}.\")"
   ]
  },
  {
   "cell_type": "code",
   "execution_count": 12,
   "metadata": {},
   "outputs": [
    {
     "name": "stdout",
     "output_type": "stream",
     "text": [
      "spiderman\n",
      "heman\n",
      "batman\n",
      "wonderwoman\n"
     ]
    },
    {
     "ename": "IndexError",
     "evalue": "list index out of range",
     "output_type": "error",
     "traceback": [
      "\u001b[0;31m---------------------------------------------------------------------------\u001b[0m",
      "\u001b[0;31mIndexError\u001b[0m                                Traceback (most recent call last)",
      "Cell \u001b[0;32mIn[12], line 7\u001b[0m\n\u001b[1;32m      5\u001b[0m \u001b[38;5;28mprint\u001b[39m(cartoon[\u001b[38;5;241m2\u001b[39m])\n\u001b[1;32m      6\u001b[0m \u001b[38;5;28mprint\u001b[39m(cartoon[\u001b[38;5;241m3\u001b[39m])\n\u001b[0;32m----> 7\u001b[0m \u001b[38;5;28mprint\u001b[39m(\u001b[43mcartoon\u001b[49m\u001b[43m[\u001b[49m\u001b[38;5;241;43m4\u001b[39;49m\u001b[43m]\u001b[49m)\n",
      "\u001b[0;31mIndexError\u001b[0m: list index out of range"
     ]
    }
   ],
   "source": [
    "cartoon = ['spiderman', 'heman', 'batman', 'wonderwoman']\n",
    "\n",
    "print(cartoon[0])\n",
    "print(cartoon[1])\n",
    "print(cartoon[2])\n",
    "print(cartoon[3])\n",
    "print(cartoon[4]) # <-- This is IndexError\n"
   ]
  },
  {
   "cell_type": "code",
   "execution_count": 14,
   "metadata": {},
   "outputs": [
    {
     "name": "stdout",
     "output_type": "stream",
     "text": [
      "spiderman\n",
      "heman\n",
      "batman\n",
      "wonderwoman\n"
     ]
    }
   ],
   "source": [
    "cartoon = ['spiderman', 'heman', 'batman', 'wonderwoman']\n",
    "\n",
    "print(cartoon[-4])\n",
    "print(cartoon[-3])\n",
    "print(cartoon[-2])\n",
    "print(cartoon[-1]) # <-- -1 is the start of the last index.\n"
   ]
  },
  {
   "cell_type": "markdown",
   "metadata": {},
   "source": [
    "---\n",
    "---"
   ]
  },
  {
   "cell_type": "markdown",
   "metadata": {},
   "source": [
    "#### Updating in the list"
   ]
  },
  {
   "cell_type": "code",
   "execution_count": 1,
   "metadata": {},
   "outputs": [
    {
     "name": "stdout",
     "output_type": "stream",
     "text": [
      "['spiderman', 'heman', 'batman', 'wonderwoman']\n",
      "['antman', 'heman', 'batman', 'wonderwoman']\n"
     ]
    }
   ],
   "source": [
    "cartoon = ['spiderman', 'heman', 'batman', 'wonderwoman']\n",
    "\n",
    "print(cartoon)\n",
    "\n",
    "cartoon[0] = 'antman' # would like to update from spiderman to antman.\n",
    "\n",
    "print(cartoon)"
   ]
  },
  {
   "cell_type": "markdown",
   "metadata": {},
   "source": [
    "##### Adding a new record in the list"
   ]
  },
  {
   "cell_type": "code",
   "execution_count": 2,
   "metadata": {},
   "outputs": [
    {
     "name": "stdout",
     "output_type": "stream",
     "text": [
      "['spiderman', 'heman', 'batman', 'wonderwoman', 'antman']\n"
     ]
    }
   ],
   "source": [
    "cartoon = ['spiderman', 'heman', 'batman', 'wonderwoman']\n",
    "\n",
    "cartoon.append('antman') # Adding antman at the end of the list.\n",
    "\n",
    "print(cartoon)\n"
   ]
  },
  {
   "cell_type": "code",
   "execution_count": 5,
   "metadata": {},
   "outputs": [
    {
     "name": "stdout",
     "output_type": "stream",
     "text": [
      "['db1', 'web1', 'lb1']\n"
     ]
    }
   ],
   "source": [
    "hostname_list = []\n",
    "\n",
    "# Note it need to moon bracket and not the squre bracket, when using a method.\n",
    "hostname_list.append('db1') \n",
    "hostname_list.append('web1')\n",
    "hostname_list.append('lb1')\n",
    "\n",
    "print(hostname_list)"
   ]
  },
  {
   "cell_type": "markdown",
   "metadata": {},
   "source": [
    "---\n",
    "---\n",
    "\n",
    "#### Some Experiments"
   ]
  },
  {
   "cell_type": "code",
   "execution_count": 6,
   "metadata": {},
   "outputs": [
    {
     "name": "stdout",
     "output_type": "stream",
     "text": [
      "[1, 2, 3, 4]\n"
     ]
    }
   ],
   "source": [
    "my_list = [1, 2, 3]\n",
    "value_to_append = 4\n",
    "\n",
    "if value_to_append not in my_list:\n",
    "    my_list.append(value_to_append)\n",
    "\n",
    "print(my_list)  # Output: [1, 2, 3, 4]"
   ]
  },
  {
   "cell_type": "code",
   "execution_count": 7,
   "metadata": {},
   "outputs": [
    {
     "name": "stdout",
     "output_type": "stream",
     "text": [
      "{1, 2, 3}\n",
      "{1, 2, 3}\n",
      "{1, 2, 3, 4}\n"
     ]
    }
   ],
   "source": [
    "## Will discuss later, but the following use of set is good.\n",
    "\n",
    "x = set ([1,2,3])\n",
    "print(x)\n",
    "\n",
    "x.add(2)\n",
    "print(x)\n",
    "\n",
    "x.add(4)\n",
    "print(x)"
   ]
  },
  {
   "cell_type": "code",
   "execution_count": 11,
   "metadata": {},
   "outputs": [
    {
     "name": "stdout",
     "output_type": "stream",
     "text": [
      "set()\n",
      "{2}\n",
      "{2, 3}\n",
      "{2, 3, 4}\n",
      "{2, 3, 4}\n",
      "{1, 2, 3, 4}\n",
      "<class 'set'>\n"
     ]
    }
   ],
   "source": [
    "unq_id = set()\n",
    "\n",
    "print(unq_id)\n",
    "\n",
    "unq_id.add(2)\n",
    "print(unq_id)\n",
    "\n",
    "unq_id.add(3)\n",
    "print(unq_id)\n",
    "\n",
    "unq_id.add(4)\n",
    "print(unq_id)\n",
    "\n",
    "unq_id.add(2) # As 2 is already part of the above set, its not added.\n",
    "print(unq_id)\n",
    "\n",
    "unq_id.add(1)\n",
    "print(unq_id)\n",
    "\n",
    "print(type(unq_id))\n"
   ]
  },
  {
   "cell_type": "code",
   "execution_count": 13,
   "metadata": {},
   "outputs": [
    {
     "name": "stdout",
     "output_type": "stream",
     "text": [
      "[1, 2, 4, 3, 5, 6, 7, 9, 8]\n",
      "{1, 2, 3, 4, 5, 6, 7, 8, 9}\n"
     ]
    }
   ],
   "source": [
    "## Note, set also keeping the value in order.\n",
    "my_list=[1,2,4,3,5,6,7,9,8]\n",
    "\n",
    "print(my_list)\n",
    "\n",
    "my_set = set(my_list)\n",
    "\n",
    "print(my_set)"
   ]
  },
  {
   "cell_type": "markdown",
   "metadata": {},
   "source": [
    "---\n",
    "---"
   ]
  },
  {
   "cell_type": "markdown",
   "metadata": {},
   "source": [
    "##### Updating a new value into the list with your own given index number"
   ]
  },
  {
   "cell_type": "code",
   "execution_count": 9,
   "metadata": {},
   "outputs": [
    {
     "name": "stdout",
     "output_type": "stream",
     "text": [
      "['spiderman', 'heman', 'batman', 'wonderwoman']\n",
      "['antman', 'spiderman', 'heman', 'batman', 'wonderwoman']\n",
      "['antman', 'batman', 'heman', 'spiderman', 'wonderwoman']\n"
     ]
    }
   ],
   "source": [
    "cartoon = ['spiderman', 'heman', 'batman', 'wonderwoman']\n",
    "\n",
    "print(cartoon)\n",
    "\n",
    "# We are adding `antman` in index 0\n",
    "cartoon.insert(0, 'antman') \n",
    "print(cartoon)\n",
    "\n"
   ]
  },
  {
   "cell_type": "markdown",
   "metadata": {},
   "source": [
    "##### Deleting from the list"
   ]
  },
  {
   "cell_type": "code",
   "execution_count": 21,
   "metadata": {},
   "outputs": [
    {
     "name": "stdout",
     "output_type": "stream",
     "text": [
      "['antman', 'spiderman', 'heman', 'batman', 'wonderwoman']\n",
      "['spiderman', 'heman', 'batman', 'wonderwoman']\n",
      "['heman', 'batman', 'wonderwoman']\n",
      "['batman', 'wonderwoman']\n",
      "['wonderwoman']\n",
      "[]\n"
     ]
    }
   ],
   "source": [
    "cartoon = ['antman', 'spiderman', 'heman', 'batman', 'wonderwoman']\n",
    "\n",
    "print(cartoon)\n",
    "\n",
    "del cartoon[0]\n",
    "print(cartoon)\n",
    "\n",
    "\n",
    "del cartoon[0]\n",
    "print(cartoon)\n",
    "\n",
    "del cartoon[0]\n",
    "print(cartoon)\n",
    "\n",
    "del cartoon[0]\n",
    "print(cartoon)\n",
    "\n",
    "del cartoon[0]\n",
    "print(cartoon)\n"
   ]
  },
  {
   "cell_type": "markdown",
   "metadata": {},
   "source": [
    "## Removing an item from list using pop()"
   ]
  },
  {
   "cell_type": "markdown",
   "metadata": {},
   "source": [
    "- When you want the value of the item, after you remove it from a list.\n",
    "- the `pop()` method removes that last item in a list, but it lets you work with that item after removing it."
   ]
  },
  {
   "cell_type": "code",
   "execution_count": 2,
   "metadata": {},
   "outputs": [
    {
     "name": "stdout",
     "output_type": "stream",
     "text": [
      "['antman', 'spiderman', 'heman', 'batman', 'wonderwoman']\n",
      "['antman', 'spiderman', 'heman', 'batman']\n",
      "wonderwoman\n"
     ]
    }
   ],
   "source": [
    "cartoon = ['antman', 'spiderman', 'heman', 'batman', 'wonderwoman']\n",
    "print(cartoon)\n",
    "\n",
    "popped_cartoon = cartoon.pop()\n",
    "print(cartoon)\n",
    "print(popped_cartoon)\n"
   ]
  },
  {
   "cell_type": "markdown",
   "metadata": {},
   "source": [
    "##### Poping items from any position in a List\n",
    "\n",
    "- Popping the 1st index from the list."
   ]
  },
  {
   "cell_type": "code",
   "execution_count": 5,
   "metadata": {},
   "outputs": [
    {
     "name": "stdout",
     "output_type": "stream",
     "text": [
      "['antman', 'spiderman', 'heman', 'batman', 'wonderwoman']\n",
      "['spiderman', 'heman', 'batman', 'wonderwoman']\n",
      "The first item was antman.\n"
     ]
    }
   ],
   "source": [
    "cartoon = ['antman', 'spiderman', 'heman', 'batman', 'wonderwoman']\n",
    "print(cartoon)\n",
    "\n",
    "popped_cartoon = cartoon.pop(0) # Positional parameter with poped.\n",
    "print(cartoon)\n",
    "print(f\"The first item was {popped_cartoon}.\")"
   ]
  },
  {
   "cell_type": "markdown",
   "metadata": {},
   "source": [
    "##### del vs pop()\n",
    "\n",
    "- `del` statement, when you want to delete an item from a list and not to use that item in any way.\n",
    "- `pop()` method, when you want to delete an item from a list and use it somewhere."
   ]
  },
  {
   "cell_type": "markdown",
   "metadata": {},
   "source": [
    "#### remove()\n",
    "\n",
    "- When you want to remove an item from list, but you don't know the position of that item."
   ]
  },
  {
   "cell_type": "code",
   "execution_count": 7,
   "metadata": {},
   "outputs": [
    {
     "name": "stdout",
     "output_type": "stream",
     "text": [
      "['antman', 'spiderman', 'heman', 'batman', 'wonderwoman']\n",
      "['antman', 'spiderman', 'batman', 'wonderwoman']\n",
      "['antman', 'spiderman', 'wonderwoman']\n"
     ]
    }
   ],
   "source": [
    "cartoon = ['antman', 'spiderman', 'heman', 'batman', 'wonderwoman']\n",
    "print(cartoon)\n",
    "\n",
    "cartoon.remove('heman')\n",
    "print(cartoon)\n",
    "\n",
    "# removing an item using a variable\n",
    "my_var = 'batman'\n",
    "\n",
    "cartoon.remove(my_var)\n",
    "print(cartoon)"
   ]
  },
  {
   "cell_type": "markdown",
   "metadata": {},
   "source": [
    "- The `remove()` method deletes onyl the first occurrence of the value you specify. If there's a possibility the value appears more than once in the list. vou'll need ot use a loop ot make sure all occurrences ofthe value ear removed.\n",
    "\n",
    "- For uniq, you can think of as `set` data type too."
   ]
  },
  {
   "cell_type": "code",
   "execution_count": 12,
   "metadata": {},
   "outputs": [
    {
     "name": "stdout",
     "output_type": "stream",
     "text": [
      "{'spiderman', 'heman', 'batman', 'antman', 'wonderwoman'}\n",
      "['antman', 'antman', 'batman', 'heman', 'spiderman', 'wonderwoman']\n"
     ]
    }
   ],
   "source": [
    "cartoon = ['antman', 'spiderman', 'heman', 'batman', 'wonderwoman', 'antman']\n",
    "\n",
    "cartoon_set = set(cartoon)\n",
    "\n",
    "print(cartoon_set)\n",
    "\n",
    "# sorting the list.\n",
    "cartoon.sort()\n",
    "print(cartoon)\n",
    "\n"
   ]
  },
  {
   "cell_type": "markdown",
   "metadata": {},
   "source": [
    "#### sort() method for permanently sort of list."
   ]
  },
  {
   "cell_type": "code",
   "execution_count": 16,
   "metadata": {},
   "outputs": [
    {
     "name": "stdout",
     "output_type": "stream",
     "text": [
      "['wonderwoman', 'spiderman', 'heman', 'batman', 'antman', 'antman']\n"
     ]
    }
   ],
   "source": [
    "cartoon = ['antman', 'spiderman', 'heman', 'batman', 'wonderwoman', 'antman']\n",
    "cartoon.sort(reverse=True)\n",
    "print(cartoon)"
   ]
  },
  {
   "cell_type": "markdown",
   "metadata": {},
   "source": [
    "#### sorted() method for a temporarily sorting."
   ]
  },
  {
   "cell_type": "code",
   "execution_count": 3,
   "metadata": {},
   "outputs": [
    {
     "name": "stdout",
     "output_type": "stream",
     "text": [
      "['antman', 'spiderman', 'heman', 'batman', 'wonderwoman']\n",
      "--------------------------------------------------------------------------------\n",
      "--------------------------------------------------------------------------------\n",
      "With sorted() method, will display during the nethod call only.\n",
      "['antman', 'batman', 'heman', 'spiderman', 'wonderwoman']\n",
      "['antman', 'spiderman', 'heman', 'batman', 'wonderwoman']\n",
      "--------------------------------------------------------------------------------\n",
      "--------------------------------------------------------------------------------\n",
      "Once sort with sort() method the set is permanently updated.\n",
      "['antman', 'batman', 'heman', 'spiderman', 'wonderwoman']\n",
      "['antman', 'batman', 'heman', 'spiderman', 'wonderwoman']\n"
     ]
    }
   ],
   "source": [
    "cartoon = ['antman', 'spiderman', 'heman', 'batman', 'wonderwoman']\n",
    "\n",
    "print(cartoon)\n",
    "\n",
    "print('-' * 80)\n",
    "print('-' * 80)\n",
    "\n",
    "print(\"With sorted() method, will display during the nethod call only.\")\n",
    "print(sorted(cartoon)) # you can also use reverse=True.\n",
    "\n",
    "print(cartoon)\n",
    "\n",
    "print('-' * 80)\n",
    "print('-' * 80)\n",
    "\n",
    "# permanently sort()\n",
    "cartoon.sort()\n",
    "print(\"Once sort with sort() method the set is permanently updated.\")\n",
    "print(cartoon)\n",
    "print(cartoon)\n"
   ]
  },
  {
   "cell_type": "code",
   "execution_count": 5,
   "metadata": {},
   "outputs": [
    {
     "name": "stdout",
     "output_type": "stream",
     "text": [
      "['antman', 'spiderman', 'heman', 'batman', 'wonderwoman']\n",
      "['wonderwoman', 'batman', 'heman', 'spiderman', 'antman']\n"
     ]
    }
   ],
   "source": [
    "# We also have the reverse() method.\n",
    "\n",
    "cartoon = ['antman', 'spiderman', 'heman', 'batman', 'wonderwoman']\n",
    "\n",
    "print(cartoon)\n",
    "\n",
    "cartoon.reverse() # its donen't sort backward alphebetically, Its simply reversee\n",
    "print(cartoon)"
   ]
  },
  {
   "cell_type": "markdown",
   "metadata": {},
   "source": [
    "- We also have `len()` to cound the number of objects in the given list."
   ]
  },
  {
   "cell_type": "markdown",
   "metadata": {},
   "source": [
    "<br>\n",
    "\n",
    "---\n",
    "---\n",
    "\n",
    "<br>"
   ]
  }
 ],
 "metadata": {
  "kernelspec": {
   "display_name": "Python 3",
   "language": "python",
   "name": "python3"
  },
  "language_info": {
   "codemirror_mode": {
    "name": "ipython",
    "version": 3
   },
   "file_extension": ".py",
   "mimetype": "text/x-python",
   "name": "python",
   "nbconvert_exporter": "python",
   "pygments_lexer": "ipython3",
   "version": "3.9.6"
  }
 },
 "nbformat": 4,
 "nbformat_minor": 2
}
