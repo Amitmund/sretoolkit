{
 "cells": [
  {
   "cell_type": "markdown",
   "metadata": {},
   "source": [
    "## Notes on python Modules, Package and Library\n",
    "\n",
    "---\n",
    "\n",
    "### Following is the difference between the python `module` and `script`\n",
    "\n",
    "##### Script:\n",
    "- Python file intended to be run directly\n",
    "- Contains statements outside the scope of any class or functions.\n",
    "\n",
    "##### Module:\n",
    "- Python file intended to be imported into another file or program or script\n",
    "- Defines classes, functions, or variables that can be used by other programs that import it.\n",
    "\n",
    "##### Packages\n",
    "- A collection of `related` modules\n",
    "- Can be an individual module, but is usually a collection of them.\n",
    "- it must carries a `__init__.py` file.\n",
    "\n",
    "##### Library\n",
    "- A collection of packages.\n",
    "- Python standard library is an example of a library.\n",
    "- It is a collection of packages that are included with the Python interpreter.\n",
    "- It includes modules, packages, and subpackages.\n",
    "\n",
    "\n",
    "\n",
    "<br>\n",
    "\n",
    "---\n",
    "---\n"
   ]
  },
  {
   "cell_type": "markdown",
   "metadata": {},
   "source": [
    "- Ideally you should use this in all of your script.\n",
    "- https://www.youtube.com/watch?v=g_wlZ9IhbTs\n",
    "\n",
    "\n",
    "```python\n",
    "if __name__ == \"__main__\":\n",
    "    main()\n",
    "```\n"
   ]
  },
  {
   "cell_type": "code",
   "execution_count": 6,
   "metadata": {},
   "outputs": [
    {
     "name": "stdout",
     "output_type": "stream",
     "text": [
      "Hello World!\n"
     ]
    }
   ],
   "source": [
    "def main():\n",
    "    print(f\"Hello World!\")\n",
    "\n",
    "if __name__ == \"__main__\":\n",
    "    main()"
   ]
  },
  {
   "cell_type": "code",
   "execution_count": 7,
   "metadata": {},
   "outputs": [
    {
     "name": "stdout",
     "output_type": "stream",
     "text": [
      "Always executed\n",
      "Executed when invoked directly\n"
     ]
    }
   ],
   "source": [
    "# Python program to execute \n",
    "# main directly \n",
    "print (\"Always executed\")\n",
    "\n",
    "if __name__ == \"__main__\": \n",
    "\tprint (\"Executed when invoked directly\")\n",
    "else: \n",
    "\tprint (\"Executed when imported\")\n"
   ]
  },
  {
   "cell_type": "markdown",
   "metadata": {},
   "source": [
    "<br>\n",
    "\n",
    "---\n",
    "---\n"
   ]
  },
  {
   "cell_type": "markdown",
   "metadata": {},
   "source": [
    "#### What to do when you can't find the installed module\n",
    "\n",
    "> pip install foo\n",
    "\n",
    "```\n",
    "Successfully build foo\n",
    "Installing collected packages: foo\n",
    "Successfully installed foo-1.2.0\n",
    "```\n",
    "\n",
    "```\n",
    "Traceback (most recent call last):\n",
    "File \"<string>\", line 1, in <module>\n",
    "ImportError: No module named foo\n",
    "```\n",
    "\n",
    "- Make sure you are using the currect path and version of python and pip of it.\n"
   ]
  },
  {
   "cell_type": "markdown",
   "metadata": {},
   "source": [
    "<br>\n",
    "\n",
    "---\n",
    "---\n",
    "\n",
    "<nr>"
   ]
  },
  {
   "cell_type": "code",
   "execution_count": null,
   "metadata": {},
   "outputs": [],
   "source": [
    "import json\n",
    "\n",
    "with open('zen.json') as obj:\n",
    "    data = json.load(obj)\n",
    "\n",
    "print(data)"
   ]
  },
  {
   "cell_type": "markdown",
   "metadata": {},
   "source": [
    "### importing a module\n",
    "- You can use in both the following way.\n",
    "\n",
    "```\n",
    "import math\n",
    "import random\n",
    "```\n",
    "\n",
    "or\n",
    "\n",
    "```\n",
    "import math, random\n",
    "```"
   ]
  },
  {
   "cell_type": "markdown",
   "metadata": {},
   "source": [
    "if you wish, you can just import a specific method or function from a module.\n",
    "\n",
    "```\n",
    "from math import sin, cos\n",
    "```\n",
    "\n",
    "<br>\n",
    "\n",
    "---\n",
    "---\n",
    "\n",
    "<br>"
   ]
  },
  {
   "cell_type": "code",
   "execution_count": null,
   "metadata": {},
   "outputs": [],
   "source": [
    "# this is an example of python module\n",
    "\n",
    "def add(a,b):\n",
    "    return a + b"
   ]
  },
  {
   "cell_type": "code",
   "execution_count": 1,
   "metadata": {},
   "outputs": [
    {
     "name": "stdout",
     "output_type": "stream",
     "text": [
      "The result is 5\n"
     ]
    }
   ],
   "source": [
    "# This is an example of python script, as its return a output\n",
    "# you can use the script directly.\n",
    "\n",
    "def add(a, b):\n",
    "    return a + b\n",
    "\n",
    "result = add(3, 2)\n",
    "print(f\"The result is {result}\")  # Output: The result is 5"
   ]
  },
  {
   "cell_type": "markdown",
   "metadata": {},
   "source": [
    "<br>\n",
    "\n",
    "---\n",
    "---\n",
    "\n",
    "\n",
    "- We have two key reasons for multiple modules.\n",
    "    - make it easier to maintain and update the code.\n",
    "    - make it easier to reuse the code\n"
   ]
  },
  {
   "cell_type": "markdown",
   "metadata": {},
   "source": [
    "### Example of importing a Module"
   ]
  },
  {
   "cell_type": "code",
   "execution_count": 2,
   "metadata": {},
   "outputs": [],
   "source": [
    "# filename: myfunctions.py\n",
    "\n",
    "def greeting(name):\n",
    "    print(f\"Good Morning {name}\")\n",
    "\n",
    "def goodbye():\n",
    "    print(f\"It was nice meeting you\")\n",
    "\n"
   ]
  },
  {
   "cell_type": "code",
   "execution_count": null,
   "metadata": {},
   "outputs": [],
   "source": [
    "# In another file: where the above module file should be accessable.\n",
    "import myfunctions.py\n",
    "\n",
    "greeting(\"foo\")\n",
    "goodbye()"
   ]
  },
  {
   "cell_type": "markdown",
   "metadata": {},
   "source": [
    "---\n",
    "---\n",
    "\n",
    "<br>"
   ]
  },
  {
   "cell_type": "code",
   "execution_count": null,
   "metadata": {},
   "outputs": [],
   "source": []
  }
 ],
 "metadata": {
  "kernelspec": {
   "display_name": "Python 3",
   "language": "python",
   "name": "python3"
  },
  "language_info": {
   "codemirror_mode": {
    "name": "ipython",
    "version": 3
   },
   "file_extension": ".py",
   "mimetype": "text/x-python",
   "name": "python",
   "nbconvert_exporter": "python",
   "pygments_lexer": "ipython3",
   "version": "3.9.6"
  }
 },
 "nbformat": 4,
 "nbformat_minor": 2
}
