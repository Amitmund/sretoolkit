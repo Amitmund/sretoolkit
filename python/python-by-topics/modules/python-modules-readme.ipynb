{
 "cells": [
  {
   "cell_type": "markdown",
   "metadata": {},
   "source": [
    "## Notes on python modules"
   ]
  },
  {
   "cell_type": "markdown",
   "metadata": {},
   "source": [
    "- A module is a .py file containing definitations of functions, classes, and variables. It can be imported into another Python script or module using the import statement.\n",
    "- A package is a directory containing multiple modules. It can be imported into another Python script or module using the import statement.\n"
   ]
  },
  {
   "cell_type": "markdown",
   "metadata": {},
   "source": [
    "package (Directory) --> Module(s) --> Class(es) --> Method(s)"
   ]
  },
  {
   "cell_type": "markdown",
   "metadata": {},
   "source": [
    "`import functions` makes the definitions in `functions.py` available in the current scope.\n",
    "\n",
    "\n",
    "---"
   ]
  },
  {
   "cell_type": "markdown",
   "metadata": {},
   "source": [
    "### importing a module\n",
    "- You can use in both the following way.\n",
    "\n",
    "```\n",
    "import math\n",
    "import random\n",
    "```\n",
    "\n",
    "or\n",
    "\n",
    "```\n",
    "import math, random\n",
    "```"
   ]
  },
  {
   "cell_type": "markdown",
   "metadata": {},
   "source": [
    "if you wish, you can just import a specific method or function from a module.\n",
    "\n",
    "```\n",
    "from math import sin, cos\n",
    "```\n",
    "\n",
    "---"
   ]
  },
  {
   "cell_type": "code",
   "execution_count": null,
   "metadata": {},
   "outputs": [],
   "source": []
  }
 ],
 "metadata": {
  "language_info": {
   "name": "python"
  }
 },
 "nbformat": 4,
 "nbformat_minor": 2
}
